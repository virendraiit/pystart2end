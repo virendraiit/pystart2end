{
 "cells": [
  {
   "cell_type": "markdown",
   "metadata": {},
   "source": [
    "Definition of Syntax and Semantics\n",
    "Basic Syntax Rules in Python\n",
    "Understanding Semantics in Python\n",
    "Common Syntax Errors and How to Avoid Them\n",
    "Practical Code Examples\n",
    "\n",
    "Syntax- How are we writing the codes.\n",
    "Semantics- Interpration of the code. What the code is supposed to do."
   ]
  },
  {
   "cell_type": "code",
   "execution_count": 11,
   "metadata": {},
   "outputs": [
    {
     "name": "stdout",
     "output_type": "stream",
     "text": [
      "John\n",
      "Doe\n",
      "28\n",
      "11\n"
     ]
    }
   ],
   "source": [
    "## Python is case sensitive\n",
    "name=\"John\"\n",
    "Name=\"Doe\"\n",
    "print(name)\n",
    "print(Name)\n",
    "## Indentation define block of codes\n",
    "## Line continuation \\\n",
    "total=1+2+3+4+\\\n",
    "    5+6+7\n",
    "print(total)\n",
    "\n",
    "## Multiple statement in sigle line= use ;\n",
    "x=5; y=6; z=x+y\n",
    "print(z)\n",
    "\n",
    "## Dynamic Typing- Python checks the type of variable during runtime. So python allows change in a variable type as code executes\n"
   ]
  },
  {
   "cell_type": "code",
   "execution_count": 13,
   "metadata": {},
   "outputs": [
    {
     "name": "stdout",
     "output_type": "stream",
     "text": [
      "Sum:  7.0\n",
      "Difference:  -1.0\n",
      "Product:  12.0\n",
      "Quotient:  0.75\n"
     ]
    }
   ],
   "source": [
    "## Simple Calculator\n",
    "num1 = float(input(\"Enter the first number: \"))\n",
    "num2 = float(input(\"Enter the second number: \"))\n",
    "\n",
    "sum = num1 + num2\n",
    "diff = num1 - num2\n",
    "product = num1 * num2\n",
    "quotient = num1/num2\n",
    "\n",
    "print(\"Sum: \", sum)\n",
    "print(\"Difference: \", diff)\n",
    "print(\"Product: \",product)\n",
    "print(\"Quotient: \", quotient)\n"
   ]
  },
  {
   "cell_type": "markdown",
   "metadata": {},
   "source": [
    "### Data Types in Python"
   ]
  },
  {
   "cell_type": "code",
   "execution_count": 7,
   "metadata": {},
   "outputs": [
    {
     "name": "stdout",
     "output_type": "stream",
     "text": [
      "Hello5\n"
     ]
    }
   ],
   "source": [
    "##Basic Data Type- Integers, Floating-point numbers\n",
    "##Advanced Data Types- Lists, Tuples, Sets, Dictionary\n",
    "## Common error\n",
    "# result = \"Hello\" + 5 --> Type casting\n",
    "result = \"Hello\" + str(5)\n",
    "print(result)"
   ]
  },
  {
   "cell_type": "markdown",
   "metadata": {},
   "source": [
    "### Operators"
   ]
  },
  {
   "cell_type": "markdown",
   "metadata": {},
   "source": [
    "Airthmatic Operators- Addition, Subtraction, Multiplication, Division, Floor Division, Modulous, Exponentiation\n",
    "Comparison Operators- Equal to(==), Not equal to(!=), Greater than, Less than, Greater than or equal to(>=), Less than or equal to(<=)\n",
    "Logical Operators- AND(and), OR(or), NOT(not- inverse of bool variable) \n",
    "esc+a- new cell"
   ]
  },
  {
   "cell_type": "code",
   "execution_count": 10,
   "metadata": {},
   "outputs": [
    {
     "name": "stdout",
     "output_type": "stream",
     "text": [
      "2\n",
      "1\n",
      "25\n",
      "False\n"
     ]
    },
    {
     "data": {
      "text/plain": [
       "True"
      ]
     },
     "execution_count": 10,
     "metadata": {},
     "output_type": "execute_result"
    }
   ],
   "source": [
    "a=5\n",
    "b=2\n",
    "floor_division= a//b\n",
    "modulus_result=a%b\n",
    "exponent_result=a**b\n",
    "print(floor_division) #2\n",
    "print(modulus_result) #1\n",
    "print(exponent_result) #25\n",
    "\n",
    "X= False\n",
    "Y=True\n",
    "result = X and Y\n",
    "print(result)\n",
    "not result "
   ]
  },
  {
   "cell_type": "markdown",
   "metadata": {},
   "source": [
    "### Conditional Statement- if, elif, else, nested condition"
   ]
  },
  {
   "cell_type": "code",
   "execution_count": 4,
   "metadata": {},
   "outputs": [
    {
     "name": "stdout",
     "output_type": "stream",
     "text": [
      "Result: 3.0\n"
     ]
    }
   ],
   "source": [
    "#Simple Calculator Program\n",
    "#Take User Input\n",
    "num1 = float(input(\"Enter the first number: \"))\n",
    "num2 = float(input(\"Enter the second number: \"))\n",
    "operation = input(\"Enter operation (+, -, *, /): \")\n",
    "\n",
    "# Perform the requested operation\n",
    "if operation == '+':\n",
    "    result = num1 + num2\n",
    "elif operation == '-':\n",
    "    result = num1 - num2\n",
    "elif operation == '*':\n",
    "    result = num1*num2\n",
    "elif operation == '/':\n",
    "    if num2 != 0:\n",
    "        result = num1/num2\n",
    "    else:\n",
    "        result = \"Error! Division by zero.\"\n",
    "\n",
    "print(\"Result:\", result)"
   ]
  },
  {
   "cell_type": "markdown",
   "metadata": {},
   "source": [
    "Loops-\n",
    "1. for Loop-\n",
    "    1. Iterating over a range\n",
    "    2. Iterating over a string\n",
    "2. while Loop\n",
    "3. Loop Control Statements\n",
    "    1. break\n",
    "    2. continue\n",
    "    3. pass\n",
    "4. Nested Loops"
   ]
  },
  {
   "cell_type": "code",
   "execution_count": 9,
   "metadata": {},
   "outputs": [
    {
     "name": "stdout",
     "output_type": "stream",
     "text": [
      "0\n",
      "1\n",
      "2\n",
      "3\n",
      "4\n",
      "V\n",
      "i\n",
      "r\n",
      "e\n",
      "n\n",
      "d\n",
      "r\n",
      "a\n",
      " \n",
      "k\n",
      "u\n",
      "m\n",
      "a\n",
      "r\n",
      "0\n",
      "1\n",
      "2\n",
      "3\n",
      "4\n"
     ]
    }
   ],
   "source": [
    "# for loop- Looping inside sequence of number\n",
    "range(5)\n",
    "\n",
    "for i in range(5):\n",
    "    print(i)\n",
    "\n",
    "# range(start, stop, step) \n",
    "\n",
    "# Traversing over string\n",
    "str=\"Virendra kumar\"\n",
    "for i in str:\n",
    "    print(i)\n",
    "\n",
    "# while Loop- continues to execute as lons as the condition is true\n",
    "count = 0\n",
    "while count<5:\n",
    "    print(count)\n",
    "    count = count + 1"
   ]
  },
  {
   "cell_type": "code",
   "execution_count": 77,
   "metadata": {},
   "outputs": [
    {
     "name": "stdout",
     "output_type": "stream",
     "text": [
      "0\n",
      "1\n",
      "2\n",
      "3\n",
      "4\n",
      "1\n",
      "3\n",
      "5\n",
      "7\n",
      "9\n",
      "0\n",
      "1\n",
      "2\n",
      "This is number 3\n",
      "3\n",
      "4\n",
      "i:0 and j:0\n",
      "i:0 and j:1\n",
      "i:1 and j:0\n",
      "i:1 and j:1\n",
      "i:2 and j:0\n",
      "i:2 and j:1\n",
      "Sum of first 10 natural numbers: 55\n",
      "55\n"
     ]
    }
   ],
   "source": [
    "# Loop Control Statement\n",
    "# break- exits the loop prematurely\n",
    "for i in range(10):\n",
    "    if i==5:\n",
    "        break\n",
    "    print(i)\n",
    "\n",
    "# continue- continue statement skips the current iteration and continues with the next.\n",
    "for i in range(10):\n",
    "    if i%2==0:\n",
    "        continue\n",
    "    print(i)\n",
    "\n",
    "# pass- pass statement is a null operation; it does nothing\n",
    "\n",
    "for i in range(5):\n",
    "    if i==3:\n",
    "        print(\"This is number 3\")\n",
    "        pass\n",
    "    print(i)\n",
    "\n",
    "# Nested Loop- A loop inside a loop\n",
    "for i in range(3):\n",
    "    for j in range(2):\n",
    "        print(f\"i:{i} and j:{j}\")\n",
    "\n",
    "# Sum of first N natural numbers\n",
    "## while loop\n",
    "\n",
    "n=10\n",
    "sum=0\n",
    "count=1\n",
    "\n",
    "while count<=n:\n",
    "    sum=sum+count\n",
    "    count=count+1\n",
    "print(f\"Sum of first {n} natural numbers:\", sum)\n",
    "\n",
    "n=10\n",
    "sum=0\n",
    "for i in range(11):\n",
    "    sum = sum + i\n",
    "print(sum)\n"
   ]
  },
  {
   "cell_type": "code",
   "execution_count": 28,
   "metadata": {},
   "outputs": [
    {
     "name": "stdout",
     "output_type": "stream",
     "text": [
      "2\n",
      "3\n",
      "5\n",
      "7\n",
      "11\n",
      "13\n",
      "17\n",
      "19\n",
      "23\n",
      "29\n",
      "31\n",
      "37\n",
      "41\n",
      "43\n",
      "47\n",
      "53\n",
      "59\n",
      "61\n",
      "67\n",
      "71\n",
      "73\n",
      "79\n",
      "83\n",
      "89\n",
      "97\n"
     ]
    }
   ],
   "source": [
    "## Display prime numbers between 1 and 100---- for else loop\n",
    "\n",
    "for num in range(1,101):\n",
    "    if num>1:\n",
    "        for i in range(2, num):\n",
    "            if num%i == 0:\n",
    "                break\n",
    "        else:\n",
    "            print(num)"
   ]
  },
  {
   "cell_type": "markdown",
   "metadata": {},
   "source": [
    "Conclusion: \n",
    "Loops are powerful constructs in python that allow you to execute a block of code multiple times. By understanding and using for and while loops, along with control statements like break, continue, and pass, we can handle a wide range of programming tasks effciently."
   ]
  },
  {
   "cell_type": "markdown",
   "metadata": {},
   "source": [
    "### Inbuilt Data Structures in Python- List, Tuple, Set, Dictionary."
   ]
  },
  {
   "cell_type": "markdown",
   "metadata": {},
   "source": [
    "List- Lists are ordered, mutable collections of items.\n",
    "List can contain items of different data types.\n",
    "1. Create List\n",
    "2. Access List Elements\n",
    "3. Modifying List Elements\n",
    "4. List Methods\n",
    "5. Slicing Lists\n",
    "6. Iterating Over Lists\n",
    "7. List Comprehensions\n",
    "8. Nested Lists\n",
    "9. Practical Examples and Common Errors"
   ]
  },
  {
   "cell_type": "code",
   "execution_count": 59,
   "metadata": {},
   "outputs": [
    {
     "name": "stdout",
     "output_type": "stream",
     "text": [
      "[1, 'Hello', 3.14, True]\n",
      "apple\n",
      "guava\n",
      "guava\n",
      "['banana', 'cherry', 'kiwi', 'guava']\n",
      "['banana', 'cherry']\n",
      "[]\n",
      "['apple', 'watermelon', 'cherry', 'kiwi', 'guava']\n",
      "['apple', 's', 't', 'r', 'a', 'w', 'b', 'e', 'r', 'r', 'y']\n",
      "['apple', 'banana', 'cherry', 'kiwi', 'guava', 'orange']\n",
      "['apple', 'orange', 'banana', 'cherry', 'kiwi', 'guava', 'orange']\n",
      "['apple', 'banana', 'cherry', 'kiwi', 'guava', 'orange']\n",
      "orange\n",
      "['apple', 'banana', 'cherry', 'kiwi', 'guava']\n",
      "3\n",
      "['guava', 'kiwi', 'cherry', 'banana', 'banana', 'apple']\n",
      "[]\n",
      "[3, 4, 5]\n",
      "[1, 2, 3, 4, 5]\n",
      "[6, 7, 8, 9, 10]\n",
      "[1, 3, 5, 7, 9]\n",
      "[10, 9, 8, 7, 6, 5, 4, 3, 2, 1]\n",
      "[1, 2, 3, 4, 5, 6, 7, 8, 9, 10]\n",
      "apple\n",
      "banana\n",
      "cherry\n",
      "kiwi\n",
      "guava\n",
      "0 apple\n",
      "1 banana\n",
      "2 cherry\n",
      "3 kiwi\n",
      "4 guava\n"
     ]
    }
   ],
   "source": [
    "#Create List\n",
    "mixed_list=[1, \"Hello\", 3.14, True]\n",
    "print(mixed_list)\n",
    "\n",
    "#Access List element\n",
    "fruits=[\"apple\",\"banana\",\"cherry\",\"kiwi\",\"guava\"]\n",
    "print(fruits[0])\n",
    "print(fruits[-1])\n",
    "print(fruits[4])\n",
    "print(fruits[1:])\n",
    "print(fruits[1:3])\n",
    "print(fruits[-1:3])\n",
    "\n",
    "#Modifying List Element\n",
    "fruits[1] = \"watermelon\"\n",
    "print(fruits)\n",
    "fruits[1:] = \"strawberry\"\n",
    "print(fruits)\n",
    "\n",
    "#List Methods- Append, insert\n",
    "fruits=[\"apple\",\"banana\",\"cherry\",\"kiwi\",\"guava\"]\n",
    "fruits.append(\"orange\")\n",
    "print(fruits)\n",
    "fruits.insert(1, \"orange\")\n",
    "print(fruits)\n",
    "# remove- it removes first occurance of item.\n",
    "fruits.remove(\"orange\")\n",
    "print(fruits)\n",
    "\n",
    "# pop- remove and return the last element of list\n",
    "popped_fruits = fruits.pop()\n",
    "print(popped_fruits)\n",
    "print(fruits)\n",
    "\n",
    "#insert, count, index(for index method item has to be in list otherwise give ValueError)\n",
    "fruits.insert(2,\"banana\")\n",
    "fruits.count(\"banana\")\n",
    "index = fruits.index(\"cherry\")\n",
    "print(index)\n",
    "\n",
    "# sort- sort the list in ascending order\n",
    "# reverse- reverse the order of list\n",
    "# clear- remove all items from list\n",
    "\n",
    "fruits.reverse()\n",
    "print(fruits)\n",
    "\n",
    "fruits.sort()\n",
    "fruits\n",
    "fruits.clear()\n",
    "print(fruits)\n",
    "\n",
    "## Slicing list\n",
    "numbers = [1,2,3,4,5,6,7,8,9,10]\n",
    "print(numbers[2:5]) # 3,4,5\n",
    "print(numbers[:5]) # 1,2,3,4,5\n",
    "print(numbers[5:]) # 6,7,8,9,10 \n",
    "print(numbers[::2]) # step is 2 i.e we jump 2 steps and print\n",
    "print(numbers[::-1]) # reverse the string as step is -1\n",
    "print(numbers[::]) # Double colon means all the elements\n",
    "\n",
    "## Iterate over List\n",
    "fruits=[\"apple\",\"banana\",\"cherry\",\"kiwi\",\"guava\"]\n",
    "for fruit in fruits:\n",
    "    print(fruit)\n",
    "\n",
    "## Iterate with index\n",
    "for index, fruit in enumerate(fruits):\n",
    "    print(index, fruit)\n"
   ]
  },
  {
   "cell_type": "markdown",
   "metadata": {},
   "source": [
    "## List Comprehension\n",
    "\n",
    "Basic Syntax [expression for item in iterable]\n",
    "\n",
    "With conditional logic [expression for item in terable if condition]\n",
    "\n",
    "Nested List comprehension [expression for item1 in iterable1 for item2 in iterable2]\n",
    "\n",
    "List Comprehsion with function calls\n",
    "\n",
    "List Comprehension with else block\n",
    "\n",
    "Conclusion- List comprehesnions are powerful and concise way to create lists in python. They are syntactically compact and can replace more verbose looping constructs. Understanding the syntax of list comprehensions will help us write cleaner and more efficient python code."
   ]
  },
  {
   "cell_type": "code",
   "execution_count": 68,
   "metadata": {},
   "outputs": [
    {
     "name": "stdout",
     "output_type": "stream",
     "text": [
      "[0, 1, 4, 9, 16, 25, 36, 49, 64, 81]\n",
      "[0, 1, 4, 9, 16, 25, 36, 49, 64, 81]\n",
      "[0, 1, 4, 9, 16, 25, 36, 49, 64, 81]\n",
      "[0, 2, 4, 6, 8]\n",
      "[0, 2, 4, 6, 8]\n",
      "[[1, 'a'], [1, 'b'], [1, 'c'], [1, 'd'], [2, 'a'], [2, 'b'], [2, 'c'], [2, 'd'], [3, 'a'], [3, 'b'], [3, 'c'], [3, 'd'], [4, 'a'], [4, 'b'], [4, 'c'], [4, 'd']]\n",
      "[5, 5, 6, 4, 13]\n"
     ]
    }
   ],
   "source": [
    "lst=[]\n",
    "for x in range(10):\n",
    "    lst.append(x**2)\n",
    "print(lst)\n",
    "\n",
    "print([x**2 for x in range(10)]) #List Comprehension\n",
    "\n",
    "# Basic Syntax [expression for item in iterable]\n",
    "# With conditional logic [expression for item in terable if condition] \n",
    "\n",
    "#Sqaure of numbers\n",
    "lst=[x**2 for x in range(10)]\n",
    "print(lst)\n",
    "\n",
    "lst=[]\n",
    "for i in range(10):\n",
    "    if i%2==0:\n",
    "        lst.append(i)\n",
    "print(lst)     \n",
    "\n",
    "even_numbers= [x for x in range(10) if x%2==0]\n",
    "print(even_numbers)\n",
    "\n",
    "# Nested List comprehension [expression for item1 in iterable1 for item2 in iterable2]\n",
    "#e.g. pairing two lists\n",
    "lst1 = [1,2,3,4]\n",
    "lst2 = ['a','b','c','d']\n",
    "pair = [[i,j] for i in lst1 for j in lst2]\n",
    "print(pair)\n",
    "\n",
    "# List Comprehsion with function calls\n",
    "words = ['hello', 'world', 'python', 'list', 'comprehension']\n",
    "lengths = [len(word) for word in words]\n",
    "print(lengths)"
   ]
  },
  {
   "cell_type": "markdown",
   "metadata": {},
   "source": [
    "## Tuple\n",
    "\n",
    "Definition- Tuples are ordered collection of items that are immutable. They are similar to lists, but their immutability makes them different\n",
    " \n",
    "Create Tuple, Access Tuple elements, Tuple operation\n",
    "\n",
    "Immutable nature of Tuple, Tuple methods\n",
    "\n",
    "Packing & Unpacking Tuples\n",
    "\n",
    "Nested Tuple\n",
    "\n",
    "Practical Examples and Error"
   ]
  },
  {
   "cell_type": "code",
   "execution_count": 28,
   "metadata": {},
   "outputs": [
    {
     "name": "stdout",
     "output_type": "stream",
     "text": [
      "()\n",
      "<class 'tuple'>\n",
      "[]\n",
      "<class 'list'>\n",
      "()\n",
      "<class 'tuple'>\n",
      "[1, 2, 3, 4, 5]\n",
      "<class 'list'>\n",
      "(1, 2, 3, 4, 5)\n",
      "<class 'tuple'>\n",
      "(1, 'Hello World', 3.14, True)\n",
      "1\n",
      "(1, 2, 3, 4)\n",
      "(5, 4, 3, 2, 1)\n",
      "(1, 2, 3, 4, 5, 1, 'Hello World', 3.14, True)\n",
      "(1, 'Hello World', 3.14, True, 1, 'Hello World', 3.14, True, 1, 'Hello World', 3.14, True)\n",
      "[1, 'Hello', 3, 4]\n",
      "1\n",
      "2\n",
      "(1, 'Hello', 3.14)\n",
      "1\n",
      "Hello\n",
      "3.14\n",
      "1\n",
      "[2, 3, 4, 5]\n",
      "6\n",
      "[1, 2, 3]\n",
      "(1, 'Hello')\n",
      "(1, 2, 3)\n",
      "c\n",
      "1 2 3 \n",
      "a b c \n",
      "True False \n"
     ]
    }
   ],
   "source": [
    "#Creating a tuple\n",
    "empty_tuple = ()\n",
    "print(empty_tuple)\n",
    "print(type(empty_tuple))\n",
    "\n",
    "lst=list() # Creating List\n",
    "print(lst)\n",
    "print(type(lst))\n",
    "\n",
    "tpl=tuple() # Creating Tuple\n",
    "print(tpl)\n",
    "print(type(tpl))\n",
    "\n",
    "numbers = ([1,2,3,4,5]) # List\n",
    "print(numbers)\n",
    "print(type(numbers))\n",
    "\n",
    "numbers = ((1,2,3,4,5)) # Tuple\n",
    "print(numbers)\n",
    "print(type(numbers))\n",
    "\n",
    "mixed_tuple = (1,\"Hello World\", 3.14, True)\n",
    "print(mixed_tuple)\n",
    "\n",
    "# Access element of Tuple and Slicing of Tuple- like a List But its Return type will always be Tuple\n",
    "print(numbers[0])\n",
    "print(numbers[0:4])\n",
    "print(numbers[::-1])\n",
    "\n",
    "# Tuple Operation- Concatenation\n",
    "concatenation_tuple= numbers + mixed_tuple\n",
    "print(concatenation_tuple)\n",
    "print(mixed_tuple * 3)\n",
    "\n",
    "# Immutable nature of Tuple- Their elements cannot be changed\n",
    "lst=[1,2,3,4]\n",
    "lst[1]=\"Hello\"\n",
    "print(lst)\n",
    "\n",
    "# numbers[1] = \"Hello\" ----TypeError\n",
    "# If change in tuple is needed then convert it into list and then convert it.\n",
    "\n",
    "# Tuple Method\n",
    "print(numbers.count(1)) # How many 1's are there\n",
    "print(numbers.index(3)) # Which element is present in index 3\n",
    "\n",
    "#Packing and Unpacking of Tuple\n",
    "packed_tuple = 1,\"Hello\",3.14 # Packing\n",
    "print(packed_tuple)\n",
    "\n",
    "a,b,c=packed_tuple #Unpacking a tuple\n",
    "print(a)\n",
    "print(b)\n",
    "print(c)\n",
    "\n",
    "# Unpacking with *\n",
    "numbers=(1,2,3,4,5,6)\n",
    "first, *middle, last = numbers\n",
    "print(first)\n",
    "print(middle) # * take from that index to before last\n",
    "print(last)\n",
    "\n",
    "#Nested List- List inside list\n",
    "lst=[[1,2,3,4],[6,7,8,9],[1,\"Hello\",3.14]]\n",
    "print(lst[0][0:3])\n",
    "\n",
    "#Tuple inside list\n",
    "lst2=[[1,2,3,4],[6,7,8,9],(1,\"Hello\",3.14)]\n",
    "print(lst2[2][0:2])\n",
    "\n",
    "#Nested Tuple- Tuple inside tuple\n",
    "nested_tuple = ((1,2,3), (\"a\",\"b\",\"c\"), (True, False))\n",
    "print(nested_tuple[0])\n",
    "print(nested_tuple[1][2])\n",
    "\n",
    "# iterating over nested_tuple\n",
    "for sub_tuple in nested_tuple:\n",
    "    for item in sub_tuple:\n",
    "        print(item, end=\" \")\n",
    "    print()\n",
    "\n",
    "# Conclusion- Tuples are versatile and useful where an immutable and \n",
    "# oredred collection of items is required. It is commonly used in data structures,\n",
    "# function arguments and as dictionary keys."
   ]
  },
  {
   "cell_type": "markdown",
   "metadata": {},
   "source": [
    "### Set\n",
    "\n",
    "Definition: Sets are built-in data type in Python used to store collections of unique items. The are unordered i.e. element do not follow a specific order, and they do not allow duplicat elements. Sets are useful for membership tests, eliminating duplicate entries, and performing mathematical set operations like union, intersection, difference, and symmetric difference."
   ]
  },
  {
   "cell_type": "code",
   "execution_count": 13,
   "metadata": {},
   "outputs": [
    {
     "name": "stdout",
     "output_type": "stream",
     "text": [
      "{1, 2, 3, 4}\n",
      "<class 'set'>\n",
      "<class 'set'>\n",
      "{1, 2, 3, 4, 5, 6}\n",
      "{1, 2, 3, 4, 5, 6, 7}\n",
      "{1, 2, 3, 4, 5, 6, 7}\n",
      "{1, 2, 4, 5, 6, 7}\n",
      "{1, 2, 4, 5, 6, 7}\n",
      "1\n",
      "{2, 4, 5, 6, 7}\n",
      "set()\n",
      "True\n",
      "False\n"
     ]
    }
   ],
   "source": [
    "## Create a set\n",
    "my_set={1,2,3,4} #curly braces like Dictionary. But Dictinary is key value pair\n",
    "print(my_set)\n",
    "print(type(my_set))\n",
    "\n",
    "my_empty_set=set()\n",
    "print(type(my_empty_set))\n",
    "\n",
    "## Take List or Tuple and type cast with set class\n",
    "my_set=set([1,2,3,4,5,6,4,5,6])\n",
    "print(my_set)\n",
    "\n",
    "## Basic Set Operations\n",
    "## Adding and Removing Elements\n",
    "my_set.add(7)\n",
    "print(my_set)\n",
    "my_set.add(7) #It will ignore the operation and will not add duplicate\n",
    "print(my_set)\n",
    "\n",
    "my_set.remove(3)\n",
    "print(my_set)\n",
    "# my_set.remove(10) - KeyError\n",
    "\n",
    "#discard method- remove element if it is member of the set otherwise ignore it.\n",
    "my_set.discard(11)\n",
    "print(my_set)\n",
    "\n",
    "# pop- First element removed=> FIFO\n",
    "removed_element=my_set.pop()\n",
    "print(removed_element)\n",
    "print(my_set)\n",
    "\n",
    "# clear- remove all the elements\n",
    "my_set.clear()\n",
    "print(my_set) # Empty set\n",
    "\n",
    "# Set Membership test\n",
    "my_set={1,2,3,4,5}\n",
    "print(3 in my_set) #True\n",
    "print(10 in my_set) #False"
   ]
  },
  {
   "cell_type": "code",
   "execution_count": 36,
   "metadata": {},
   "outputs": [
    {
     "name": "stdout",
     "output_type": "stream",
     "text": [
      "{1, 2, 3, 4, 5, 6, 7, 8, 9}\n",
      "{4, 5, 6}\n",
      "{4, 5, 6}\n",
      "{1, 2, 3}\n",
      "{1, 2, 3, 4, 5, 6}\n",
      "{1, 2, 3}\n",
      "{1, 2, 3, 7, 8, 9}\n",
      "{1, 2, 3, 7, 8, 9}\n",
      "False\n",
      "False\n",
      "['In', 'In', 'this', 'tutorial', 'we', 'are', 'discussing', 'about', 'sets']\n",
      "{'this', 'discussing', 'about', 'tutorial', 'are', 'sets', 'In', 'we'}\n",
      "8\n"
     ]
    }
   ],
   "source": [
    "# Mathematical Operation\n",
    "set1 = {1,2,3,4,5,6}\n",
    "set2 = {4,5,6,7,8,9}\n",
    "\n",
    "#Union\n",
    "union_set=set1.union(set2)\n",
    "print(union_set)\n",
    "\n",
    "#Intersection\n",
    "intersection_set = set1.intersection(set2)\n",
    "print(intersection_set)\n",
    "\n",
    "set1.intersection_update(set2)\n",
    "print(set1) # Intersection of set1 and set2 will update set1\n",
    "\n",
    "set1 = {1,2,3,4,5,6}\n",
    "set2 = {4,5,6,7,8,9}\n",
    "\n",
    "#Difference=> set1-set2\n",
    "print(set1.difference(set2)) #Intersection part will be removed in set1- {1, 2, 3}\n",
    "print(set1) # {1, 2, 3, 4, 5, 6}\n",
    "set1.difference_update(set2) #updated set1\n",
    "print(set1)\n",
    "\n",
    "set1 = {1,2,3,4,5,6}\n",
    "set2 = {4,5,6,7,8,9}\n",
    "#Symmetric difference- Common element will be removed and other elements will be combined\n",
    "print(set1.symmetric_difference(set2))\n",
    "set1.symmetric_difference_update(set2)\n",
    "print(set1)\n",
    "\n",
    "#Set Methods\n",
    "# is subset\n",
    "set1 = {1,2,3}\n",
    "set2 = {3,4,5}\n",
    "print(set1.issubset(set2)) #if set1 is subset of set2 => if set2 is parent\n",
    "print(set1.issuperset(set2)) #if set1 is superset of set2 => if set1 id parent\n",
    "\n",
    "##Counting unique words in text\n",
    "text = \"In In this tutorial we are discussing about sets\"\n",
    "words = text.split(\" \")\n",
    "print(words)\n",
    "unique_words = set(words)\n",
    "print(unique_words)\n",
    "number_words = len(unique_words)\n",
    "print(number_words)"
   ]
  },
  {
   "cell_type": "markdown",
   "metadata": {},
   "source": [
    "## Dictionary\n",
    "\n",
    "Create Dictionary, Access element, modify dictionary, Dictionary methods,\n",
    "Iterating over Dictionary, Nested Dictionary, Dictionary Comprehension, Examples\n",
    "\n",
    "Definition- Dictionaries are unordered collections of items. They store data in key-value pairs. Keys must be unique and immutable (e.g. strings, numbers, or tuples), while values can be any type."
   ]
  },
  {
   "cell_type": "code",
   "execution_count": 44,
   "metadata": {},
   "outputs": [
    {
     "name": "stdout",
     "output_type": "stream",
     "text": [
      "<class 'dict'>\n",
      "{}\n",
      "{'name': 'Virendra', 'age': 40, 'grade': 24}\n",
      "{'name': 24, 'age': 40}\n",
      "A\n",
      "A\n",
      "None\n",
      "Not Available\n",
      "{'name': 'Virendra', 'age': 40, 'grade': 'A'}\n",
      "{'name': 'Virendra', 'age': 33, 'grade': 'A'}\n",
      "{'name': 'Virendra', 'age': 33, 'grade': 'A', 'address': 'Delhi'}\n",
      "{'name': 'Virendra', 'age': 33, 'address': 'Delhi'}\n"
     ]
    }
   ],
   "source": [
    "## Creating Dictionary\n",
    "empty_dict={}\n",
    "print(type(empty_dict))\n",
    "empty_dict=dict()\n",
    "print(empty_dict)\n",
    "\n",
    "student={\"name\":\"Virendra\", \"age\":40, \"grade\":24}\n",
    "print(student)\n",
    "\n",
    "# Key must be unique- Otherwise it will update with last key-value pair\n",
    "student={\"name\":\"Virendra\", \"age\":40, \"name\":24}\n",
    "print(student) # {'name': 24, 'age': 40}\n",
    "\n",
    "#Access element\n",
    "student={\"name\":\"Virendra\", \"age\":40, \"grade\":'A'}\n",
    "print(student['grade'])\n",
    "#Access using get() method\n",
    "print(student.get('grade'))\n",
    "print(student.get('last_name'))\n",
    "print(student.get('last_name',\"Not Available\")) # if the last_name is not in dictionary key then return \"Not Available\"\n",
    "\n",
    "## Modifying Dictionary Elements\n",
    "## Dictionary are mutable, so you can add, update or delete elements. But key must be unique.\n",
    "print(student)\n",
    "student[\"age\"]=33 # Modifying value for the key\n",
    "print(student)\n",
    "student[\"address\"]=\"Delhi\" #Adding new key-value pair\n",
    "print(student)\n",
    "\n",
    "## Deleting key-value pair\n",
    "del student['grade'] # delete key-value pair\n",
    "print(student)"
   ]
  },
  {
   "cell_type": "code",
   "execution_count": 57,
   "metadata": {},
   "outputs": [
    {
     "name": "stdout",
     "output_type": "stream",
     "text": [
      "dict_keys(['name', 'age', 'address'])\n",
      "dict_values(['vk3', 33, 'Delhi'])\n",
      "dict_items([('name', 'vk3'), ('age', 33), ('address', 'Delhi')])\n",
      "{'name': 'vk3', 'age': 33, 'address': 'Delhi'}\n",
      "{'name': 'vk3', 'age': 33, 'address': 'Delhi'}\n",
      "{'name': 'vk2', 'age': 33, 'address': 'Delhi'}\n",
      "{'name': 'vk2', 'age': 33, 'address': 'Delhi'}\n",
      "{'name': 'vk2', 'age': 33, 'address': 'Delhi'}\n",
      "{'name': 'vk2', 'age': 33, 'address': 'Delhi'}\n",
      "{'name': 'vk3', 'age': 33, 'address': 'Delhi'}\n",
      "{'name': 'vk2', 'age': 33, 'address': 'Delhi'}\n",
      "name\n",
      "age\n",
      "address\n",
      "vk3\n",
      "33\n",
      "Delhi\n",
      "name : vk3\n",
      "age : 33\n",
      "address : Delhi\n",
      "{'student1': {'name': 'krish', 'age': 32}, 'student2': {'name': 'Peter', 'age': 16}, 'student3': {'name': 'vk', 'age': 40}}\n",
      "Peter\n",
      "16\n",
      "student1:{'name': 'krish', 'age': 32}\n",
      "name:krish\n",
      "age:32\n",
      "student2:{'name': 'Peter', 'age': 16}\n",
      "name:Peter\n",
      "age:16\n",
      "student3:{'name': 'vk', 'age': 40}\n",
      "name:vk\n",
      "age:40\n"
     ]
    }
   ],
   "source": [
    "## Dictionary Methods\n",
    "keys = student.keys() #Get all the keys\n",
    "print(keys)\n",
    "values = student.values() #Get all the Values\n",
    "print(values)\n",
    "items = student.items() #Get all the key-value pairs\n",
    "print(items) # Give list of tuples\n",
    "\n",
    "## Shallow copy\n",
    "student_copy = student\n",
    "print(student)\n",
    "print(student_copy)\n",
    "student[\"name\"]=\"vk2\"\n",
    "print(student)\n",
    "print(student_copy) \n",
    "# Here student_copy also got modified. That's where shallow copy comes.\n",
    "student_copy = student.copy() ## Shallow copy\n",
    "print(student)\n",
    "print(student_copy)\n",
    "student[\"name\"]=\"vk3\"\n",
    "print(student)\n",
    "print(student_copy) #student_copy remains same\n",
    "\n",
    "## Iterating over Dictionaries\n",
    "## We can use loops to iterate over dictionaries, keys, values, or items(i.e. key-value tuple)\n",
    "\n",
    "# Iterating over keys\n",
    "for key in student.keys():\n",
    "    print(key)\n",
    "\n",
    "# Iterating over Values\n",
    "for value in student.values():\n",
    "    print(value)\n",
    "\n",
    "#Iterating over key value pairs\n",
    "for key,value in student.items():\n",
    "    print(f\"{key} : {value}\")\n"
   ]
  },
  {
   "cell_type": "code",
   "execution_count": 67,
   "metadata": {},
   "outputs": [
    {
     "name": "stdout",
     "output_type": "stream",
     "text": [
      "{'student1': {'name': 'krish', 'age': 32}, 'student2': {'name': 'Peter', 'age': 16}, 'student3': {'name': 'vk', 'age': 40}}\n",
      "Peter\n",
      "16\n",
      "student1:{'name': 'krish', 'age': 32}\n",
      "name:krish\n",
      "age:32\n",
      "student2:{'name': 'Peter', 'age': 16}\n",
      "name:Peter\n",
      "age:16\n",
      "student3:{'name': 'vk', 'age': 40}\n",
      "name:vk\n",
      "age:40\n",
      "{0: 0, 1: 1, 2: 4, 3: 9, 4: 16}\n",
      "{0: 0, 2: 4, 4: 16, 6: 36, 8: 64}\n",
      "5\n",
      "{1: 1, 2: 2, 3: 3, 4: 5}\n",
      "{1: 1, 2: 2, 3: 3, 4: 5}\n",
      "{'a': 1, 'b': 3, 'c': 4}\n"
     ]
    }
   ],
   "source": [
    "# Nested Dictionaries- Dictionaries inside dictionary----- Like MongoDB database\n",
    "students={\n",
    "    \"student1\": {\"name\":\"krish\", \"age\": 32},\n",
    "    \"student2\": {\"name\":\"Peter\", \"age\": 16},\n",
    "    \"student3\": {\"name\":\"vk\", \"age\": 40}\n",
    "}\n",
    "\n",
    "print(students)\n",
    "\n",
    "# Access Nested Dictionaries Elements\n",
    "print(students[\"student2\"][\"name\"])\n",
    "print(students[\"student2\"][\"age\"])\n",
    "\n",
    "# Iterating over nested dictionaries\n",
    "for student_id, student_info in students.items():\n",
    "    print(f\"{student_id}:{student_info}\")\n",
    "    for key,value in student_info.items():\n",
    "        print(f\"{key}:{value}\")\n",
    "\n",
    "# Dictionary Comprehension\n",
    "squares = {x:x**2 for x in range(5)}\n",
    "print(squares)\n",
    "\n",
    "# Conditional Dictionary Comprehension\n",
    "evens = {x:x**2 for x in range(10) if x%2==0}\n",
    "print(evens)\n",
    "\n",
    "# Practical Examples\n",
    "# Use a dictionary to count the frequency of elements in list\n",
    "numbers = [1,2,2,3,3,3,4,4,4,4,4]\n",
    "## freq_output = {1:1, 2:2, 3:3, 4:4}\n",
    "print(numbers.count(4)) #5- count function\n",
    "#Dictionary comprehension\n",
    "freq_output={x:numbers.count(x) for x in numbers}\n",
    "print(freq_output)\n",
    "#Another method- for loop\n",
    "frequency={}\n",
    "for number in numbers:\n",
    "    if number in frequency:\n",
    "        frequency[number]+=1\n",
    "    else:\n",
    "        frequency[number]=1\n",
    "print(frequency)\n",
    "\n",
    "# Merge 2 dictionaries- key-word argument\n",
    "dict1 = {\"a\":1, \"b\":2}\n",
    "dict2 = {\"b\":3, \"c\":4}\n",
    "merged_dict = {**dict1, **dict2} #dict1 is merging with dict2\n",
    "print(merged_dict)"
   ]
  },
  {
   "cell_type": "markdown",
   "metadata": {},
   "source": [
    "## Real-World Examples using Lists in Python\n",
    "\n",
    "Lists are one of the most commonly used data structures in Python, thanks to their versatility and ease of use. Here are several practical examples that illustrate their use in real-world scenarios."
   ]
  },
  {
   "cell_type": "code",
   "execution_count": 79,
   "metadata": {},
   "outputs": [
    {
     "name": "stdout",
     "output_type": "stream",
     "text": [
      "Don't forget to pay utility bills\n",
      "To Do List remaining\n",
      "-Buy Groceries\n",
      "-Pay Bills\n",
      "-Schedule Meeting\n",
      "-Go for a Run\n",
      "Average Grade: 88.00\n",
      "Highest Grade: 95\n",
      "Lowest Grade: 78\n"
     ]
    }
   ],
   "source": [
    "## Example 1. Manage A To Do List\n",
    "    # Create a To Do List to Keep Track of Tasks\n",
    "to_do_list=[\"Buy Groceries\", \"Clean the house\", \"Pay Bills\"]\n",
    "\n",
    "#adding to task\n",
    "to_do_list.append(\"Schedule Meeting\")\n",
    "to_do_list.append(\"Go for a Run\")\n",
    "\n",
    "#Removing a completed Task\n",
    "to_do_list.remove(\"Clean the house\")\n",
    "\n",
    "#Checking if a task is in the list\n",
    "if \"Pay Bills\" in to_do_list:\n",
    "    print(\"Don't forget to pay utility bills\")\n",
    "print(\"To Do List remaining\")\n",
    "for task in to_do_list:\n",
    "    print(f\"-{task}\")\n",
    "\n",
    "\n",
    "## Example 2. Organizing Student Grades\n",
    "    # Create a list to store and calculate average grades for students\n",
    "grades = [85, 92, 78, 90, 88]\n",
    "#Adding a new grade\n",
    "grades.append(95)\n",
    "#Calculate the average grade\n",
    "del sum\n",
    "average_grade = sum(grades)/len(grades)\n",
    "print(f\"Average Grade: {average_grade:.2f}\")\n",
    "#Finding highest and lowest grades\n",
    "highest_grade = max(grades)\n",
    "lowest_grade = min(grades)\n",
    "\n",
    "print(f\"Highest Grade: {highest_grade}\")\n",
    "print(f\"Lowest Grade: {lowest_grade}\")\n",
    "\n",
    "# Error- The error TypeError: 'float' object is not callable indicates that somewhere in your code or environment, \n",
    "# the function sum() has been redefined as a float value. As a result, when you try to use sum(grades), \n",
    "# it raises the error because Python is attempting to treat sum as a float, not a built-in function.\n",
    "# use del sum\n",
    "\n"
   ]
  },
  {
   "cell_type": "markdown",
   "metadata": {},
   "source": [
    "## Functions in Python\n",
    "\n",
    "Definition, Calling Function, Function Parameters, Default Parameters, Variable-Length Arguments(Positional Argument, Keyword Argument), Return Statement\n",
    "\n",
    "Definition- A funtion is a block of code that performs a specific task. Function helps in organizing code, reusing code and improving readability. \n",
    "\n"
   ]
  },
  {
   "cell_type": "code",
   "execution_count": null,
   "metadata": {},
   "outputs": [],
   "source": [
    "## syntax\n",
    "def function_name(parameters):\n",
    "    \"\"\"Docstring- what does this function do\"\"\"\n",
    "    # Function body\n",
    "    # return expression # function may or may not have return statement"
   ]
  },
  {
   "cell_type": "code",
   "execution_count": 8,
   "metadata": {},
   "outputs": [
    {
     "name": "stdout",
     "output_type": "stream",
     "text": [
      "number is even\n",
      "number is even\n",
      "Hello Krish\n",
      "Hello Guest\n",
      "1\n",
      "2\n",
      "3\n",
      "4\n",
      "5\n",
      "vk\n",
      "name: krish\n",
      "age: 32\n",
      "country: India\n",
      "Positional Argument : 1\n",
      "Positional Argument : 2\n",
      "Positional Argument : 3\n",
      "Positional Argument : 4\n",
      "Positional Argument : vk\n",
      "Keyword Argument- name: krish\n",
      "Keyword Argument- age: 32\n",
      "Keyword Argument- country: India\n"
     ]
    },
    {
     "data": {
      "text/plain": [
       "(6, 2)"
      ]
     },
     "execution_count": 8,
     "metadata": {},
     "output_type": "execute_result"
    }
   ],
   "source": [
    "# why function??\n",
    "num=24\n",
    "if num%2==0:\n",
    "    print(\"number is even\")\n",
    "else:\n",
    "    print(\"number is odd\")\n",
    "\n",
    "def even_or_odd(num):\n",
    "    \"\"\"This functiom finds even or odd\"\"\"\n",
    "    if num%2==0:\n",
    "        print(\"number is even\")\n",
    "    else:\n",
    "        print(\"number is odd\")\n",
    "\n",
    "## Call this function\n",
    "even_or_odd(24)\n",
    "\n",
    "## Default Parameters\n",
    "def greet(name=\"Guest\"):\n",
    "    print(f\"Hello {name}\")\n",
    "\n",
    "greet(\"Krish\")\n",
    "greet() #Here Guest is default parameter--- Here it's a positional argument\n",
    "\n",
    "## Variable Length Arguments\n",
    "# Positional & Keywords Argument\n",
    "\n",
    "#Positional Argument\n",
    "# Args means Positional Argument\n",
    "def print_numbers(*args):\n",
    "    for number in args:\n",
    "        print(number)\n",
    "\n",
    "print_numbers(1,2,3,4,5,\"vk\")\n",
    "\n",
    "# Keywords Arguments- two * => **kwargs- All arguments will be in key-value pair\n",
    "def print_details(**kwargs):\n",
    "    for key, value in kwargs.items():\n",
    "        print(f\"{key}: {value}\")\n",
    "\n",
    "print_details(name=\"krish\", age=32, country=\"India\")\n",
    "\n",
    "# Now use both Postional Argument and Key-Value Argument\n",
    "# positional argument must appear befeore keyword argument\n",
    "def print_both(*args, **kwargs):\n",
    "    for val in args:\n",
    "        print(f\"Positional Argument : {val}\")\n",
    "    \n",
    "    for key,value in kwargs.items():\n",
    "        print(f\"Keyword Argument- {key}: {value}\")\n",
    "\n",
    "print_both(1,2,3,4,\"vk\",name=\"krish\", age=32, country=\"India\")\n",
    "\n",
    "## Return Statement\n",
    "# In python function returns one or multiple parameters\n",
    "def multiply(a,b):\n",
    "    return a*b\n",
    "\n",
    "multiply(2,3)\n",
    "\n",
    "def multiply(a,b):\n",
    "    return a*b, a\n",
    "\n",
    "multiply(2,3)\n",
    "\n",
    "\n"
   ]
  },
  {
   "cell_type": "code",
   "execution_count": 13,
   "metadata": {},
   "outputs": [
    {
     "name": "stdout",
     "output_type": "stream",
     "text": [
      "77.0\n",
      "25.0\n",
      "False\n",
      "True\n",
      "5.8999999999999995\n",
      "True\n",
      "False\n",
      "120\n",
      "{'hello': 1, 'world': 1, 'how': 1, 'are': 1, 'you': 1, 'my': 1, 'name': 1, 'is': 1, 'vk': 2}\n",
      "True\n",
      "False\n"
     ]
    }
   ],
   "source": [
    "## Function Examples\n",
    "# 1. Temprature Conversion\n",
    "def convert_temprature(temp, unit):\n",
    "    \"\"\"This function converts temperature between Celsius and Farenheit\"\"\"\n",
    "    if unit=='C':\n",
    "        return temp * 9/5 + 32 ## Celsius to Farenheit\n",
    "    elif unit=='F':\n",
    "        return (temp-32)*5/9 ## Farenheit to Celsius\n",
    "    else: return None\n",
    "print(convert_temprature(25, 'C'))\n",
    "print(convert_temprature(77,'F'))\n",
    "\n",
    "\n",
    "# 2. Check whether Password is Strong\n",
    "def is_strong_password(password):\n",
    "    \"\"\"This function checks if the password is strong or not\"\"\"\n",
    "    if len(password)<8:\n",
    "        return False\n",
    "    if not any(char.isdigit() for char in password):\n",
    "        return False\n",
    "    if not any(char.islower() for char in password):\n",
    "        return False\n",
    "    if not any(char.isupper() for char in password):\n",
    "        return False\n",
    "    if not any(char in '!@#$%^&*()_+' for char in password):\n",
    "        return False\n",
    "    return True\n",
    "\n",
    "## Calling the function\n",
    "print(is_strong_password(\"WeakPwd\"))\n",
    "print(is_strong_password(\"Str0ngPwd!\"))\n",
    "\n",
    "\n",
    "## 3. Calculate the Total Cost of Items in a Shopping Cart\n",
    "def calculate_total_cost(cart):\n",
    "    total_cost=0\n",
    "    for item in cart:\n",
    "        total_cost+=item['price']* item['quantity']\n",
    "    return total_cost\n",
    "\n",
    "#Example cart data- To see what kind of data Do I have\n",
    "cart=[\n",
    "    {'name':'Apple', 'price':0.5,'quantity':4},\n",
    "    {'name':'Banana', 'price':0.3,'quantity':6},\n",
    "    {'name':'Orange', 'price':0.7,'quantity':3}\n",
    "]\n",
    "\n",
    "#Calling the Function\n",
    "total_cost=calculate_total_cost(cart)\n",
    "print(total_cost)\n",
    "\n",
    "\n",
    "## 4. Check if a String is Palindrom\n",
    "# Reverse the String and equate if both are equal \n",
    "def is_palindrom(s):\n",
    "    s=s.lower().replace(\" \",\"\")\n",
    "    return s==s[::-1]\n",
    "\n",
    "print(is_palindrom(\"A man a plan a canal Panama\"))\n",
    "print(is_palindrom(\"Hello\"))\n",
    "\n",
    "\n",
    "## 5. Calculate the factorials of a number using recursion\n",
    "def factorial(n):\n",
    "    if n==0:\n",
    "        return 1\n",
    "    else:\n",
    "        return n*factorial(n-1)\n",
    "print(factorial(5))\n",
    "\n",
    "## 6. A function To Read A File and count frequency of each word\n",
    "def count_word_frequency(file_path):\n",
    "    word_count={}\n",
    "    with open(file_path, 'r') as file:\n",
    "        for line in file:\n",
    "            words=line.split()\n",
    "            for word in words:\n",
    "                word=word.lower().strip('.,!?;:\"\\'')\n",
    "                word_count[word]=word_count.get(word,0)+1\n",
    "    return word_count\n",
    "file_path='sample.txt'\n",
    "word_frequency=count_word_frequency(file_path)\n",
    "print(word_frequency)\n",
    "\n",
    "## 7. Validate Email Address\n",
    "# abc@email.com- @.com\n",
    "\n",
    "import re\n",
    "def isEmailValid(email):\n",
    "    \"\"\"This function checks if the email is valid.\"\"\"\n",
    "    # pattern = r'^[a-zA-Z0-9_+-]+@[a-zA-Z0-9-]+\\.[a-zA-Z0-9-]+$'\n",
    "    pattern = r'^[a-zA-Z0-9._+-]+@[a-zA-Z0-9-]+\\.[a-zA-Z]{2,}$'\n",
    "\n",
    "    return re.match(pattern, email) is not None\n",
    "\n",
    "#Calling the function\n",
    "print(isEmailValid('test@example.com'))\n",
    "print(isEmailValid(\"invalid-email\"))\n"
   ]
  },
  {
   "cell_type": "markdown",
   "metadata": {},
   "source": [
    "## Lamda Function\n",
    "\n",
    "Lambda functions are small anonymous functions defined using the lambda keyword. They can have any number of arguments but only expression.\n",
    "\n",
    "They are commonly used for short operations or as arguments to higher-order functions.\n",
    "\n",
    "Syntax- lambda arguments: expression"
   ]
  },
  {
   "cell_type": "code",
   "execution_count": 9,
   "metadata": {},
   "outputs": [
    {
     "name": "stdout",
     "output_type": "stream",
     "text": [
      "5\n",
      "True\n"
     ]
    },
    {
     "data": {
      "text/plain": [
       "[1, 4, 9, 16, 25, 36]"
      ]
     },
     "execution_count": 9,
     "metadata": {},
     "output_type": "execute_result"
    }
   ],
   "source": [
    "## \n",
    "\n",
    "def addition(a,b):\n",
    "    return a+b\n",
    "addition(2,3)\n",
    "\n",
    "# Lambda function\n",
    "addition=lambda a,b:a+b\n",
    "type(addition)\n",
    "print(addition(2,3))\n",
    "\n",
    "def even(num):\n",
    "    if num%2==0:\n",
    "        return True\n",
    "    \n",
    "even(24)\n",
    "\n",
    "evenlambda= lambda num:num%2==0\n",
    "print(evenlambda(4))\n",
    "\n",
    "# map() and filter() function with lamdba function\n",
    "# map()- applies a fucntion to all items in a list\n",
    "numbers=[1,2,3,4,5,6]\n",
    "def square(number):\n",
    "    return number**2\n",
    "square(2)\n",
    "\n",
    "# map(function, iterables). Iterables- List. Tuple\n",
    "# map uses a lazy-loading technique. That means it is not initialized. We have to convert it to into list.\n",
    "list(map(lambda x:x**2, numbers))\n",
    "\n"
   ]
  },
  {
   "cell_type": "markdown",
   "metadata": {},
   "source": [
    "## map() Function\n",
    "\n",
    "The map() function applies a given fucntion to all items in an input list (or any other iterable) and returns a map object(an iterator).\n",
    "\n",
    "This is particularly useful for transforming data in a list comprehensively."
   ]
  },
  {
   "cell_type": "code",
   "execution_count": 7,
   "metadata": {},
   "outputs": [
    {
     "name": "stdout",
     "output_type": "stream",
     "text": [
      "[5, 7, 9]\n",
      "[1, 2, 3, 4, 5]\n",
      "['APPLE', 'BANANA', 'CHERRY']\n",
      "['Vk', 'Jack']\n"
     ]
    }
   ],
   "source": [
    "def square(x):\n",
    "    return x**2\n",
    "\n",
    "numbers=[1,2,3,4,5]\n",
    "list(map(square,numbers))\n",
    "\n",
    "## Lambda function with map\n",
    "list(map(lambda x:x**2, numbers))\n",
    "\n",
    "## Can we map multiple iterables-\n",
    "numbers1=[1,2,3]\n",
    "numbers2=[4,5,6]\n",
    "\n",
    "added_numbers=list(map(lambda x,y:x+y, numbers1, numbers2))\n",
    "print(added_numbers)\n",
    "\n",
    "## Apply python in-built function in map- int, str.upper\n",
    "## map() to convert a list of strings to integres\n",
    "\n",
    "# Use map to convert strings to integers\n",
    "str_numbers=['1','2','3','4','5']\n",
    "# int_numbers=list(map(lambda x:int(x), str_numbers))\n",
    "int_numbers=list(map(int, str_numbers))\n",
    "print(int_numbers)\n",
    "\n",
    "# Make Capital\n",
    "words=['Apple','banana','cherry']\n",
    "upper_word=list(map(str.upper,words))\n",
    "print(upper_word)\n",
    "\n",
    "# get value from dictionary\n",
    "def get_name(person):\n",
    "    return person['name']\n",
    "people=[\n",
    "    {'name':'Vk', 'age':32},\n",
    "    {'name':'Jack','age':33}\n",
    "]\n",
    "people_name=list(map(get_name,people))\n",
    "print(people_name)\n",
    "\n"
   ]
  },
  {
   "cell_type": "markdown",
   "metadata": {},
   "source": [
    "## Conclusion\n",
    "\n",
    "The map() function is a powerful tool for applying transformations to iterable data structures. It can be used with regular functions, lambda functions, and even iterables, providing a versatile approach to data processing in Python. By understanding and utilizing map(), you can write more efficient and readble code."
   ]
  },
  {
   "cell_type": "markdown",
   "metadata": {},
   "source": [
    "## filter() Function in Python\n",
    "\n",
    "The filter() function constructs an iterator from elements of an iterable for which a function returns true. It is used to filter out items from a list (or any other iterable) based on a condition.\n",
    "\n"
   ]
  },
  {
   "cell_type": "code",
   "execution_count": 16,
   "metadata": {},
   "outputs": [
    {
     "name": "stdout",
     "output_type": "stream",
     "text": [
      "[2, 4, 6, 8, 10]\n",
      "[6, 7, 8, 9]\n",
      "[6, 8]\n",
      "[{'name': 'Krish', 'age': 32}, {'name': 'Vk', 'age': 40}]\n"
     ]
    }
   ],
   "source": [
    "def even(num):\n",
    "    if num%2==0:\n",
    "        return True\n",
    "lst=[1,2,3,4,5,6,7,8,9,10]\n",
    "even_lst=list(filter(even,lst))\n",
    "print(even_lst)\n",
    "\n",
    "## Filter with lambda function\n",
    "numbers=[1,2,3,4,5,6,7,8,9]\n",
    "greater_than_five=list(filter(lambda x:x>5,numbers))\n",
    "print(greater_than_five)\n",
    "\n",
    "## Filter with lambda function and multiple condition\n",
    "numbers=[1,2,3,4,5,6,7,8,9]\n",
    "even_and_greater_than_five=list(filter(lambda x:x>5 and x%2==0, numbers))\n",
    "print(even_and_greater_than_five)\n",
    "\n",
    "## Filter to check if the age is greater than 25 in dictionaries\n",
    "people=[\n",
    "    {'name':'Krish','age':32},\n",
    "    {'name':'Vk','age':40},\n",
    "    {'name':'John','age':25},\n",
    "]\n",
    "def age_greater_than_25(person):\n",
    "    # if person['age']>25:\n",
    "    #     return person\n",
    "    return person['age']>25\n",
    "\n",
    "people_25=list(filter(age_greater_than_25,people))\n",
    "print(people_25)\n",
    "\n",
    "## Conclusion\n",
    "# The filter() function is a powerful tool for creating iterators that filter items out of an iterable based on\n",
    "# a function. It is commonly used for data cleaning, filtering objects, and removing unwanted elements from lists.\n",
    "# By mastering filter(), you can write more concise and efficient code for processing and manipulating collections in Python.\n",
    "\n"
   ]
  },
  {
   "cell_type": "markdown",
   "metadata": {},
   "source": [
    "## Modules & Packages in Python"
   ]
  },
  {
   "cell_type": "code",
   "execution_count": 17,
   "metadata": {},
   "outputs": [
    {
     "name": "stdout",
     "output_type": "stream",
     "text": [
      "2.0\n"
     ]
    }
   ],
   "source": [
    "import math\n",
    "\n",
    "print(math.sqrt(4))\n"
   ]
  },
  {
   "cell_type": "code",
   "execution_count": 18,
   "metadata": {},
   "outputs": [
    {
     "name": "stdout",
     "output_type": "stream",
     "text": [
      "4.0\n",
      "5.0\n",
      "3.141592653589793\n"
     ]
    }
   ],
   "source": [
    "from math import sqrt, pi\n",
    "print(sqrt(16))\n",
    "print(sqrt(25))\n",
    "print(pi)"
   ]
  },
  {
   "cell_type": "code",
   "execution_count": 21,
   "metadata": {},
   "outputs": [
    {
     "name": "stdout",
     "output_type": "stream",
     "text": [
      "[1 2 3 4]\n",
      "3.141592653589793\n"
     ]
    }
   ],
   "source": [
    "# numpy is used for array operation\n",
    "import numpy as np\n",
    "from math import *\n",
    "\n",
    "print(np.array([1,2,3,4]))\n",
    "print(pi)\n"
   ]
  },
  {
   "cell_type": "markdown",
   "metadata": {},
   "source": [
    "## Creating Your Own Package"
   ]
  },
  {
   "cell_type": "code",
   "execution_count": 23,
   "metadata": {},
   "outputs": [
    {
     "data": {
      "text/plain": [
       "5"
      ]
     },
     "execution_count": 23,
     "metadata": {},
     "output_type": "execute_result"
    }
   ],
   "source": [
    "# from custom_package.calc import addition\n",
    "# addition(2,3)\n",
    "\n",
    "# Or\n",
    "\n",
    "from custom_package import calc\n",
    "calc.addition(2,3)"
   ]
  },
  {
   "cell_type": "markdown",
   "metadata": {},
   "source": [
    "## Python Libraries"
   ]
  },
  {
   "cell_type": "markdown",
   "metadata": {},
   "source": [
    "Array, Random, Math, os\n",
    "\n",
    "random.randint, random.choice\n",
    "\n",
    "os- File/directory access\n",
    "\n",
    "shutil- high level operation in file\n",
    "\n",
    "Data Serialization- json\n",
    "json.dumps(data); json.loads(json_str)\n",
    "\n",
    "csv- with open('example.csv', mode='w',newline='') as file:\n",
    "\n",
    "datetime- now=datetime.now()...yesterday=now-timedelta(days=1)\n",
    "\n",
    "time\n",
    "\n",
    "Regular Expression- re--- pattern='\\d+'"
   ]
  },
  {
   "cell_type": "markdown",
   "metadata": {},
   "source": [
    "## File Handling in Python\n",
    "\n",
    "File Operation- Read & Write\n",
    "\n",
    "File handling is a crucial part of any programming langugae. Python provides built-in functions and methods to read from and write to files, both text and binary. The lesson will cover the basics of the file handling, including reading and writing text files and binary files."
   ]
  },
  {
   "cell_type": "code",
   "execution_count": 16,
   "metadata": {},
   "outputs": [
    {
     "name": "stdout",
     "output_type": "stream",
     "text": [
      "Hello World!\n",
      "This is a new line.Append operation taking place!\n",
      "First line \n",
      "Second line \n",
      "Third line\n",
      "\n",
      "Hello World!\n",
      "This is a new line.Append operation taking place!\n",
      "First line\n",
      "Second line\n",
      "Third line\n",
      "b'\\x00\\x01\\x02\\x03\\x04'\n"
     ]
    }
   ],
   "source": [
    "## Read a whole file\n",
    "with open('filehandle.txt','r') as file:\n",
    "    content=file.read()\n",
    "    print(content)\n",
    "\n",
    "## Read a file line by line\n",
    "with open('filehandle.txt','r') as file:\n",
    "    for line in file:\n",
    "        print(line.strip()) ## strip removes the newline character\n",
    "\n",
    "## Writing a file(overwriting)\n",
    "with open('filehandle.txt','w') as file:\n",
    "    file.write('Hello World!\\n')\n",
    "    file.write('This is a new line.')\n",
    "\n",
    "## Write a file(without Overwriting)\n",
    "with open('filehandle.txt','a') as file:\n",
    "    file.write(\"Append operation taking place!\\n\")\n",
    "\n",
    "## Writing alist of lines to a file\n",
    "lines=['First line \\n','Second line \\n','Third line\\n']\n",
    "with open('filehandle.txt','a') as file:\n",
    "    file.writelines(lines)\n",
    "\n",
    "### Binary files\n",
    "# writing to binary files\n",
    "data = b'\\x00\\x01\\x02\\x03\\x04'\n",
    "with open('filehandle.bin','wb') as file:\n",
    "    file.write(data)\n",
    "\n",
    "# Reading a binary file\n",
    "with open('filehandle.bin','rb') as file:\n",
    "    content=file.read()\n",
    "    print(content)\n",
    "\n",
    "### Read the content from a source text file and write to a destinationa text file\n",
    "# Copying a text file\n",
    "with open('filehandle.txt','r') as source_file:\n",
    "    content=source_file.read()\n",
    "\n",
    "with open('destination.txt', 'w') as destination_file:\n",
    "    destination_file.write(content)\n",
    "\n",
    "## The w+ mode in Python is used to open a file for both reading and writing.\n",
    "# If the file does not exist, it will be created.\n",
    "# If the file exists, its content is trucncated(i.e. file is overwritten)\n"
   ]
  },
  {
   "cell_type": "markdown",
   "metadata": {},
   "source": [
    "## Exception handling in Python\n",
    "\n",
    "Exception handling in Python allows you to handle errors gracefully and take corrective actions without stopping the execution of the program. The lesson will cover exceptions, including how to use try, except, else, and finally blocks.\n",
    "\n",
    "What are exceptions- Exceptions are events that disrupt the normal flow of program. They occur when an error is encountered during program execution. Common exception include:\n",
    "\n",
    "1. ZeroDivisionError: Dividing by zero\n",
    "2. FileNotFoundError: File not found\n",
    "3. ValueError: Invalid value\n",
    "4. TypeError: Invalid type\n"
   ]
  },
  {
   "cell_type": "code",
   "execution_count": 7,
   "metadata": {},
   "outputs": [
    {
     "name": "stdout",
     "output_type": "stream",
     "text": [
      "The variable has not been assigned\n",
      "name 'b' is not defined\n",
      "name 'b' is not defined\n"
     ]
    }
   ],
   "source": [
    "## Exception: try-except block\n",
    "try:\n",
    "    a=b\n",
    "except:\n",
    "    print(\"The variable has not been assigned\")\n",
    "\n",
    "# use NameError class\n",
    "try:\n",
    "    a=b\n",
    "except NameError as ex:\n",
    "    print(ex)\n",
    "\n",
    "\n",
    "# More exception\n",
    "try:\n",
    "    result=1/2\n",
    "    a=b\n",
    "except ZeroDivisionError as ex:\n",
    "    print(ex)\n",
    "    print(\"Please enter denominator greater than 0\")\n",
    "except Exception as ex1:\n",
    "    print(ex1)"
   ]
  },
  {
   "cell_type": "code",
   "execution_count": 14,
   "metadata": {},
   "outputs": [
    {
     "name": "stdout",
     "output_type": "stream",
     "text": [
      "You can't divide by zero!\n",
      "Execution complete\n"
     ]
    }
   ],
   "source": [
    "## try,except,else block. else will be exceuted when no exception occur.\n",
    "# finally gets executed always and in the last.\n",
    "try:    \n",
    "    num=int(input(\"Enter a number: \"))\n",
    "    result=10/num\n",
    "except ValueError:\n",
    "    print(\"That's not a valid number!\")\n",
    "except ZeroDivisionError:\n",
    "    print(\"You can't divide by zero!\")\n",
    "else:\n",
    "    print(f\"the result is {result} okay\")\n",
    "finally:\n",
    "    print(\"Execution complete\")"
   ]
  },
  {
   "cell_type": "code",
   "execution_count": 17,
   "metadata": {},
   "outputs": [
    {
     "name": "stdout",
     "output_type": "stream",
     "text": [
      "The file does not exist\n"
     ]
    }
   ],
   "source": [
    "## File handling and Exception Handling\n",
    "try:\n",
    "    file=open('example.txt','r')\n",
    "    content=file.read()\n",
    "    print(content)\n",
    "except FileNotFoundError:\n",
    "    print(\"The file does not exist\")\n",
    "finally:\n",
    "    if 'file' in locals() and not file.closed():\n",
    "        file.close()\n",
    "        print('file close')"
   ]
  },
  {
   "cell_type": "markdown",
   "metadata": {},
   "source": [
    "## OOPs- Classes & Objects\n",
    "\n",
    "Object-Oriented Programming(OOP) is a programming paradigm that uses \"objects\" to design applications and computer programs. OOP allows for modelling real-world scenarios using classes and objects. This lesson covers the basic of creating classes and objects, including variables and methods."
   ]
  },
  {
   "cell_type": "code",
   "execution_count": 6,
   "metadata": {},
   "outputs": [
    {
     "name": "stdout",
     "output_type": "stream",
     "text": [
      "Buddy\n",
      "3\n",
      "Buddy says woof\n",
      "5000\n",
      "100 is deposited. New balance is 5100\n",
      "300 is withdrawn. New Balance is 4800\n",
      "4800\n"
     ]
    }
   ],
   "source": [
    "## A class is blue print for creating objects. It has attributes and methods.\n",
    "\n",
    "## Instance Variable and Methods\n",
    "\n",
    "class Dog:\n",
    "    ## Constructor\n",
    "    def __init__(self, name, age):\n",
    "        self.name=name\n",
    "        self.age=age\n",
    "\n",
    "    ## Instance methods\n",
    "    def bark(self):\n",
    "        print(f\"{self.name} says woof\")\n",
    "\n",
    "## create objects\n",
    "dog1=Dog(\"Buddy\",3)\n",
    "print(dog1.name)\n",
    "print(dog1.age)\n",
    "dog1.bark()\n",
    "\n",
    "## Modeling a Bank Account\n",
    "\n",
    "## Define a class for bank account\n",
    "class BankAccount:\n",
    "    def __init__(self,owner, balance=0):\n",
    "        self.owner=owner\n",
    "        self.balance=balance\n",
    "    \n",
    "    def deposit(self,amount):\n",
    "        self.balance+=amount\n",
    "        print(f\"{amount} is deposited. New balance is {self.balance}\")\n",
    "    \n",
    "    def withdraw(self,amount):\n",
    "        if amount>self.balance:\n",
    "            print(\"insufficient funds!\")\n",
    "        else:\n",
    "            self.balance-=amount\n",
    "            print(f\"{amount} is withdrawn. New Balance is {self.balance}\")\n",
    "    \n",
    "    def get_balance(self):\n",
    "        return self.balance\n",
    "    \n",
    "## Create an Account\n",
    "account=BankAccount(\"Vk\", 5000)\n",
    "print(account.balance)\n",
    "\n",
    "## Call instance methods\n",
    "account.deposit(100)\n",
    "account.withdraw(300)\n",
    "print(account.get_balance())\n",
    "\n",
    "## Conclusion- Object-Oriented Programming (OOP) allows you to model real-world scenarios using class and objects.\n",
    "# class, objects, instance variables and methods, and use them to perform various operation.\n",
    "# Understanding these concepts is fundamental to wriitng effective and maintanable Python code."
   ]
  },
  {
   "cell_type": "markdown",
   "metadata": {},
   "source": [
    "# Inheritance\n",
    "\n",
    "Inheritance is a fundamental concept in OOP that allows a class to inherit attributes and methods from another class. This lesson covers single inheritance and multiple inheritance demonstrating how to create and use them in python."
   ]
  },
  {
   "cell_type": "code",
   "execution_count": 3,
   "metadata": {},
   "outputs": [
    {
     "name": "stdout",
     "output_type": "stream",
     "text": [
      "The person will drive the petrol car\n",
      "Tesla supports self driving: True\n",
      "The person will drive the electric car\n",
      "Happy syas woof\n",
      "owner: Vk\n"
     ]
    }
   ],
   "source": [
    "## Inheritance (Single Inheritance)\n",
    "# Parent class\n",
    "class Car:\n",
    "    def __init__(self, windows,doors,enginetype):\n",
    "        self.windows=windows\n",
    "        self.doors=doors\n",
    "        self.enginetype=enginetype\n",
    "    \n",
    "    def drive(self):\n",
    "        print(f\"The person will drive the {self.enginetype} car\")\n",
    "\n",
    "car1=Car(4,5,\"petrol\")\n",
    "car1.drive()\n",
    "\n",
    "# Single Inheritance- Only one child class is inheriting the Parent class\n",
    "class Tesla(Car):\n",
    "    def __init__(self, windows, doors, enginetype, is_selfdriving):\n",
    "        super().__init__(windows, doors, enginetype)\n",
    "        self.is_selfdriving=is_selfdriving\n",
    "    \n",
    "    def selfdriving(self):\n",
    "        print(f\"Tesla supports self driving: {self.is_selfdriving}\")\n",
    "\n",
    "tesla1=Tesla(4,5,\"electric\",True)\n",
    "tesla1.selfdriving()\n",
    "tesla1.drive()\n",
    "\n",
    "\n",
    "## Multiple Inhertance\n",
    "## When a class inherits from more than one base class.\n",
    "## Base class 1\n",
    "class Animal:\n",
    "    def __init__(self, name):\n",
    "        self.name=name\n",
    "\n",
    "    def speak(self):\n",
    "        print(\"Subclass must implement this method\")\n",
    "\n",
    "## Base class 2\n",
    "class Pet:\n",
    "    def __init__(self, owner):\n",
    "        self.owner=owner\n",
    "\n",
    "## Derived class\n",
    "# That is, inheriting both the classes\n",
    "class Dog(Animal, Pet):\n",
    "    def __init__(self,name,owner):\n",
    "        Animal.__init__(self,name)\n",
    "        Pet.__init__(self,owner)\n",
    "\n",
    "    def speak(self):\n",
    "        return f\"{self.name} syas woof\"\n",
    "\n",
    "## Create an object\n",
    "dog=Dog(\"Happy\",\"Vk\")\n",
    "print(dog.speak())\n",
    "print(f\"owner: {dog.owner}\")\n"
   ]
  },
  {
   "cell_type": "markdown",
   "metadata": {},
   "source": [
    "# Polymorphism\n",
    "Polymorphism is a core concept in Object-Oriented Programming(OOP) that allows objects of different classes to be treated as objects of a common superclass. It provides a way to perform a single action in different forms.\n",
    "Polymorphism is typically achieved through method overriding and interfaces.\n",
    "# Method Overriding\n",
    "Method overriding allows a child class to provide a specific implementation of a method that is already defined in its parent class."
   ]
  },
  {
   "cell_type": "code",
   "execution_count": 9,
   "metadata": {},
   "outputs": [
    {
     "name": "stdout",
     "output_type": "stream",
     "text": [
      "Woof!\n",
      "Meow!\n",
      "Woof!\n",
      "The area is 20\n",
      "The area is 28.259999999999998\n"
     ]
    }
   ],
   "source": [
    "# Base Class\n",
    "class Animal:\n",
    "    def speak(self):\n",
    "        return \"Sound of the animal\"\n",
    "\n",
    "# Derived class 1\n",
    "class Dog(Animal):\n",
    "    def speak(self):\n",
    "        return \"Woof!\"\n",
    "\n",
    "# Dervied class 2\n",
    "class Cat(Animal):\n",
    "    def speak(self):\n",
    "        return \"Meow!\"\n",
    "\n",
    "# public function- That is function that is not inside any class\n",
    "# Function that demonstrates polymorphism\n",
    "def animal_speak(animal):\n",
    "    print(animal.speak())\n",
    "\n",
    "dog=Dog()\n",
    "cat=Cat()\n",
    "print(dog.speak())\n",
    "print(cat.speak())\n",
    "animal_speak(dog)\n",
    "\n",
    "\n",
    "## Polymorphism with Functions and Methods\n",
    "## Base class\n",
    "class Shape:\n",
    "    def area(self):\n",
    "        return \"The area of the figure\"\n",
    "\n",
    "## Derived class 1\n",
    "class Rectangle(Shape):\n",
    "    def __init__(self, width, height):\n",
    "        self.width=width\n",
    "        self.height=height\n",
    "    \n",
    "    def area(self):\n",
    "        return self.width * self.height\n",
    "\n",
    "## Derived class 2\n",
    "class Circle(Shape):\n",
    "    def __init__(self,radius):\n",
    "        self.radius=radius\n",
    "    \n",
    "    def area(self):\n",
    "        return 3.14*self.radius * self.radius\n",
    "\n",
    "## Function that demonstrates Polymorphism\n",
    "\n",
    "def print_area(shape):\n",
    "    print(f\"The area is {shape.area()}\")\n",
    "\n",
    "rectangle=Rectangle(4,5)\n",
    "circle=Circle(3)\n",
    "\n",
    "print_area(rectangle)\n",
    "print_area(circle)\n"
   ]
  },
  {
   "cell_type": "markdown",
   "metadata": {},
   "source": [
    "## Polymorphism with Abstract Base Classes \n",
    "Interfaces- It is Abstract Base Classes\n",
    "\n",
    "Abstract Base Classes(ABCs) are used to define common methods for a group of related objects. They can enforce that derived classes implement particular methods, promoting consistency across different implementations.\n",
    "\n",
    "Abstract Method is a kind of decorator"
   ]
  },
  {
   "cell_type": "code",
   "execution_count": 10,
   "metadata": {},
   "outputs": [
    {
     "name": "stdout",
     "output_type": "stream",
     "text": [
      "Car engine started\n"
     ]
    }
   ],
   "source": [
    "from abc import ABC, abstractmethod\n",
    "\n",
    "## Abstract class- is empty class\n",
    "## Abstract method- is empty method\n",
    "\n",
    "## Define an abstract class\n",
    "class Vehicle(ABC):\n",
    "    @abstractmethod\n",
    "    def start_engine(self):\n",
    "        pass\n",
    "\n",
    "## Derived class 1\n",
    "class Car(Vehicle):\n",
    "    def start_engine(self):\n",
    "        return \"Car engine started\"\n",
    "\n",
    "## Derived class 2\n",
    "class Motorcycle(Vehicle):\n",
    "    def start_engine(self):\n",
    "        return \"Motorcycle engine started\"\n",
    "\n",
    "## Function that demonstrates polymorphism\n",
    "def start_vehicle(vehicle):\n",
    "    print(vehicle.start_engine())\n",
    "\n",
    "## Create objects of Car and Motorcycle\n",
    "car=Car()\n",
    "motorcycle = Motorcycle()\n",
    "start_vehicle(car)"
   ]
  },
  {
   "cell_type": "markdown",
   "metadata": {},
   "source": [
    "Conclusion- Polymorphism is a powerful feature of OOP that allows for flexibility and integration in code design. It enables a single fuction to handle objects of different classes, each with its own implementation of a method. By understanding and applying polymorphism, you can create more extensible and maintainable object-oriented programs."
   ]
  },
  {
   "cell_type": "markdown",
   "metadata": {},
   "source": [
    "## Encapsulation And Abstraction\n",
    "Encapsulation and Abstraction are two fundamental principles of Object-Oriented Programming (OOP) that help in designing robust, maintainable, and reusable code. Encapsulation involves bundling data and methods that operate on the data within a single unit, while abstraction involves hiding complex implementation details and exposing only the necessary features.\n",
    "\n",
    "## Encalpsulation\n",
    "Encapsulation is the concept of wrapping data(variables) and methods(functions) together as a single unit. It restricts direct access to some of the object's components, which is a means of preventing accidental interfaces and misuse of the data."
   ]
  },
  {
   "cell_type": "code",
   "execution_count": 15,
   "metadata": {},
   "outputs": [
    {
     "name": "stdout",
     "output_type": "stream",
     "text": [
      "Vk\n"
     ]
    },
    {
     "data": {
      "text/plain": [
       "['__class__',\n",
       " '__delattr__',\n",
       " '__dict__',\n",
       " '__dir__',\n",
       " '__doc__',\n",
       " '__eq__',\n",
       " '__format__',\n",
       " '__ge__',\n",
       " '__getattribute__',\n",
       " '__gt__',\n",
       " '__hash__',\n",
       " '__init__',\n",
       " '__init_subclass__',\n",
       " '__le__',\n",
       " '__lt__',\n",
       " '__module__',\n",
       " '__ne__',\n",
       " '__new__',\n",
       " '__reduce__',\n",
       " '__reduce_ex__',\n",
       " '__repr__',\n",
       " '__setattr__',\n",
       " '__sizeof__',\n",
       " '__str__',\n",
       " '__subclasshook__',\n",
       " '__weakref__',\n",
       " 'age',\n",
       " 'name']"
      ]
     },
     "execution_count": 15,
     "metadata": {},
     "output_type": "execute_result"
    }
   ],
   "source": [
    "## Encapsulation with Getter and Setter Methods\n",
    "## Public, protected, private variables or access modifiers\n",
    "\n",
    "class Person:\n",
    "    def __init__(self,name,age):\n",
    "        self.name=name  ## public variables\n",
    "        self.age=age    ## public variables\n",
    "    \n",
    "    def get_name(person):\n",
    "        return person.name\n",
    "\n",
    "person=Person(\"Vk\", 40)\n",
    "print(person.name)\n",
    "dir(person)"
   ]
  },
  {
   "cell_type": "code",
   "execution_count": 2,
   "metadata": {},
   "outputs": [
    {
     "data": {
      "text/plain": [
       "['_Person__age',\n",
       " '_Person__name',\n",
       " '__class__',\n",
       " '__delattr__',\n",
       " '__dict__',\n",
       " '__dir__',\n",
       " '__doc__',\n",
       " '__eq__',\n",
       " '__format__',\n",
       " '__ge__',\n",
       " '__getattribute__',\n",
       " '__gt__',\n",
       " '__hash__',\n",
       " '__init__',\n",
       " '__init_subclass__',\n",
       " '__le__',\n",
       " '__lt__',\n",
       " '__module__',\n",
       " '__ne__',\n",
       " '__new__',\n",
       " '__reduce__',\n",
       " '__reduce_ex__',\n",
       " '__repr__',\n",
       " '__setattr__',\n",
       " '__sizeof__',\n",
       " '__str__',\n",
       " '__subclasshook__',\n",
       " '__weakref__',\n",
       " 'gender',\n",
       " 'get_name']"
      ]
     },
     "execution_count": 2,
     "metadata": {},
     "output_type": "execute_result"
    }
   ],
   "source": [
    "class Person:\n",
    "    def __init__(self,name,age,gender):\n",
    "        self.__name=name  ## private variables\n",
    "        self.__age=age    ## private variables\n",
    "        self.gender=gender\n",
    "    \n",
    "    def get_name(person):\n",
    "        return person.__name # Private variable can't be accessed outside the class.\n",
    "\n",
    "person=Person(\"Vk\",40,\"Male\")\n",
    "dir(person)\n",
    "# get_name(person)"
   ]
  },
  {
   "cell_type": "code",
   "execution_count": 3,
   "metadata": {},
   "outputs": [
    {
     "name": "stdout",
     "output_type": "stream",
     "text": [
      "Vk\n"
     ]
    }
   ],
   "source": [
    "class Person:\n",
    "    def __init__(self,name,age,gender):\n",
    "        self._name=name  ## protected variables. single underscore\n",
    "        self._age=age    ## protected variables\n",
    "        self.gender=gender\n",
    "    \n",
    "# Protected variable can't be accessed outside the class but we can access it from derived class.\n",
    "class Employee(Person):\n",
    "    def __init__(self, name, age, gender):\n",
    "        super().__init__(name, age, gender)\n",
    "\n",
    "employee = Employee(\"Vk\", 40, \"Male\")\n",
    "print(employee._name)"
   ]
  },
  {
   "cell_type": "code",
   "execution_count": 5,
   "metadata": {},
   "outputs": [
    {
     "name": "stdout",
     "output_type": "stream",
     "text": [
      "Vk\n",
      "34\n",
      "41\n",
      "Age can't be negative\n"
     ]
    }
   ],
   "source": [
    "## Encapsulaton with Getter & Setter\n",
    "class Person:\n",
    "    def __init__(self,name,age):\n",
    "        self.__name=name # Private access modifier or variable\n",
    "        self.__age=age # Private variable\n",
    "    \n",
    "    ## Getter method for name\n",
    "    def get_name(self):\n",
    "        return self.__name\n",
    "    \n",
    "    ## Setter method for name\n",
    "    def set_name(self, name):\n",
    "        self.__name=name\n",
    "    \n",
    "    # Getter method for age\n",
    "    def get_age(self):\n",
    "        return self.__age\n",
    "    \n",
    "    # Setter method for age\n",
    "    def set_age(self,age):\n",
    "        if age>0:\n",
    "            self.__age=age\n",
    "        else:\n",
    "            print(\"Age can't be negative\")\n",
    "\n",
    "person=Person(\"Vk\", 34)\n",
    "\n",
    "# Access and modify private variables using getter and setter\n",
    "print(person.get_name())\n",
    "print(person.get_age())\n",
    "\n",
    "person.set_age(41)\n",
    "print(person.get_age())\n",
    "\n",
    "person.set_age(-5)"
   ]
  },
  {
   "cell_type": "markdown",
   "metadata": {},
   "source": [
    "# Abstraction\n",
    "Abstraction is the concept of hiding the complex implementation details and showing only the necessary features of an object. This helps in reducing programming complexity and effort."
   ]
  },
  {
   "cell_type": "code",
   "execution_count": 2,
   "metadata": {},
   "outputs": [
    {
     "name": "stdout",
     "output_type": "stream",
     "text": [
      "Car egine started\n",
      "The vehicle is used for driving\n"
     ]
    }
   ],
   "source": [
    "from abc import ABC,abstractmethod\n",
    "\n",
    "## Abstract base class\n",
    "class Vehicle(ABC):\n",
    "    def drive(self):\n",
    "        print(\"The vehicle is used for driving\")\n",
    "    \n",
    "    @abstractmethod\n",
    "    def start_engine(self):\n",
    "        pass\n",
    "\n",
    "class Car(Vehicle):\n",
    "    def start_engine(self):\n",
    "        print(\"Car egine started\")\n",
    "    \n",
    "def operate_vehicle(vehicle):\n",
    "    vehicle.start_engine()\n",
    "    vehicle.drive()\n",
    "\n",
    "car = Car()\n",
    "operate_vehicle(car)\n"
   ]
  },
  {
   "cell_type": "markdown",
   "metadata": {},
   "source": [
    "# Magic Methods\n",
    "\n",
    "Magic methods in Python, also known as dunder methods (double underscore methods), are special methods that start and end with double underscores. These methods enable yoiu to define the behaviour of objects for built-in operations, such as airthmatic operations, comparisons, and more.  \n",
    "\n",
    "Magic methods are predefined methods in python that you can override to change the behavior of your objets. Some common magic methods include:"
   ]
  },
  {
   "cell_type": "code",
   "execution_count": null,
   "metadata": {},
   "outputs": [],
   "source": [
    "\"\"\"\n",
    "1. __init__: initlizes a new instance of class\n",
    "2. __str__: returns a string represenation of an object.\n",
    "3. __repr__: returns an offcial string represenation of an object.\n",
    "4. __len__: returns the length of an object.\n",
    "5. __getitem__: gets an item from a container.\n",
    "6. __setitem__: sets an item in container.\n",
    "\"\"\""
   ]
  },
  {
   "cell_type": "code",
   "execution_count": 9,
   "metadata": {},
   "outputs": [
    {
     "name": "stdout",
     "output_type": "stream",
     "text": [
      "<__main__.Person object at 0x000001F5486F4370>\n"
     ]
    },
    {
     "data": {
      "text/plain": [
       "['__class__',\n",
       " '__delattr__',\n",
       " '__dict__',\n",
       " '__dir__',\n",
       " '__doc__',\n",
       " '__eq__',\n",
       " '__format__',\n",
       " '__ge__',\n",
       " '__getattribute__',\n",
       " '__gt__',\n",
       " '__hash__',\n",
       " '__init__',\n",
       " '__init_subclass__',\n",
       " '__le__',\n",
       " '__lt__',\n",
       " '__module__',\n",
       " '__ne__',\n",
       " '__new__',\n",
       " '__reduce__',\n",
       " '__reduce_ex__',\n",
       " '__repr__',\n",
       " '__setattr__',\n",
       " '__sizeof__',\n",
       " '__str__',\n",
       " '__subclasshook__',\n",
       " '__weakref__',\n",
       " 'age',\n",
       " 'name']"
      ]
     },
     "execution_count": 9,
     "metadata": {},
     "output_type": "execute_result"
    }
   ],
   "source": [
    "class Person:\n",
    "    def __init__(self,name,age):\n",
    "        self.name=name\n",
    "        self.age=age\n",
    "    \n",
    "person=Person(\"Vk\",40)\n",
    "print(person)\n",
    "dir(person)"
   ]
  },
  {
   "cell_type": "code",
   "execution_count": 2,
   "metadata": {},
   "outputs": [
    {
     "name": "stdout",
     "output_type": "stream",
     "text": [
      "Vk,40 years old\n",
      "Person(name=Vk, age=40)\n"
     ]
    }
   ],
   "source": [
    "## Basic Methods\n",
    "class Person:\n",
    "    def __init__(self,name,age):\n",
    "        self.name=name\n",
    "        self.age=age\n",
    "    \n",
    "    def __str__(self):\n",
    "        return f\"{self.name},{self.age} years old\"\n",
    "    # above we changed functionaliy of a megic methods which is responsible for displaying information about the object.\n",
    "    \n",
    "    # Similarly we can change functionality of repr() magic method\n",
    "    def __repr__(self):\n",
    "        return f\"Person(name={self.name}, age={self.age})\"\n",
    "    \n",
    "\n",
    "person=Person(\"Vk\",40)\n",
    "print(person)\n",
    "# So earlier it was showing string representation of person onject. Now it is showing the modified form\n",
    "\n",
    "print(repr(person))"
   ]
  },
  {
   "cell_type": "markdown",
   "metadata": {},
   "source": [
    "# Operator Overloading\n",
    "Operator overloading allows you to define the behavior of operators(+,-,*,/,>,< etc.) for custom objects. You achieve this by overriding specific magic methods in your class."
   ]
  },
  {
   "cell_type": "code",
   "execution_count": 1,
   "metadata": {},
   "outputs": [
    {
     "data": {
      "text/plain": [
       "'\\n__add__(self,other): Adds two objects using + operator\\n__sub__(self,other): Subtracts two objects using - operator\\n__mul__(self,other): Multiplies two objects using * operator\\n__truediv__(self,other): Divides two objects using / operaor\\n__eq__(self,other): Checks if two objects are equal using == operator\\n__lt__(self,other): Checks if one objects is less than another using the < operaor\\n__gt__(self,other): Check if one object is greater than another using the > operator\\n\\n'"
      ]
     },
     "execution_count": 1,
     "metadata": {},
     "output_type": "execute_result"
    }
   ],
   "source": [
    "## Common Operator Overloading Megic Methods\n",
    "\"\"\"\n",
    "__add__(self,other): Adds two objects using + operator\n",
    "__sub__(self,other): Subtracts two objects using - operator\n",
    "__mul__(self,other): Multiplies two objects using * operator\n",
    "__truediv__(self,other): Divides two objects using / operaor\n",
    "__eq__(self,other): Checks if two objects are equal using == operator\n",
    "__lt__(self,other): Checks if one objects is less than another using the < operaor\n",
    "__gt__(self,other): Check if one object is greater than another using the > operator\n",
    "\n",
    "\"\"\""
   ]
  },
  {
   "cell_type": "code",
   "execution_count": 7,
   "metadata": {},
   "outputs": [
    {
     "name": "stdout",
     "output_type": "stream",
     "text": [
      "Vector(6, 8)\n",
      "Vector(-2, -2)\n",
      "Vector(6, 9)\n",
      "3 + 7i\n",
      "1 + -1i\n",
      "-10 + 11i\n",
      "0.8235294117647058 + -0.29411764705882354i\n",
      "False\n",
      "2 + 3i\n",
      "1 + 4i\n"
     ]
    }
   ],
   "source": [
    "## Mathematical Operation for vectors\n",
    "class Vector:\n",
    "    def __init__(self,x,y):\n",
    "        self.x=x\n",
    "        self.y=y\n",
    "\n",
    "    def __add__(self,other):\n",
    "        return Vector(self.x+other.x, self.y+other.y)\n",
    "\n",
    "    def __sub__(self,other):\n",
    "        return Vector(self.x-other.x, self.y-other.y)\n",
    "\n",
    "    def __mul__(self,other):\n",
    "        return Vector(self.x*other, self.y*other)\n",
    "\n",
    "    def __eq__(self,other):\n",
    "        return self.x == other.x and self.y == other.y\n",
    "\n",
    "    def __repr__(self):\n",
    "        return f\"Vector({self.x}, {self.y})\"\n",
    "\n",
    "## create objects of the Vector Class\n",
    "v1=Vector(2,3)\n",
    "v2=Vector(4,5)\n",
    "\n",
    "print(v1+v2)\n",
    "print(v1-v2)\n",
    "print(v1*3)\n",
    "\n",
    "\n",
    "### Overloading Operators for Complex Numbers\n",
    "\n",
    "class ComplexNumber:\n",
    "    def __init__(self, real, imag):\n",
    "        self.real = real\n",
    "        self.imag = imag\n",
    "    \n",
    "    def __add__(self,other):\n",
    "        return ComplexNumber(self.real + other.real, self.imag + other.imag)\n",
    "\n",
    "    def __sub__(self, other):\n",
    "        return ComplexNumber(self.real - other.real, self.imag - other.imag)\n",
    "    \n",
    "    def __mul__(self,other):\n",
    "        real_part = self.real * other.real - self.imag * other.imag\n",
    "        imag_part = self.real * other.imag + self.imag * other.real\n",
    "        return ComplexNumber(real_part, imag_part)\n",
    "\n",
    "    def __truediv__(self, other):\n",
    "        denominator = other.real**2 + other.imag**2\n",
    "        real_part = (self.real * other.real + self.imag * other.imag) / denominator\n",
    "        imag_part = (self.imag * other.real - self.real * other.imag) / denominator\n",
    "        return ComplexNumber(real_part, imag_part)\n",
    "    \n",
    "    def __eq__(self, other):\n",
    "        return self.real == other.real and self.imag == other.imag\n",
    "    \n",
    "    def __repr__(self):\n",
    "        return f\"{self.real} + {self.imag}i\"\n",
    "\n",
    "# Create objects of the ComplexNumber class\n",
    "c1 = ComplexNumber(2, 3)\n",
    "c2 = ComplexNumber(1, 4)\n",
    "print(c1+c2)\n",
    "print(c1-c2)\n",
    "print(c1*c2)\n",
    "print(c1/c2)\n",
    "print(c1==c2)\n",
    "print(repr(c1))\n",
    "print(repr(c2))"
   ]
  },
  {
   "cell_type": "markdown",
   "metadata": {},
   "source": [
    "# Custom Exception\n",
    "Raise & Throw an exception"
   ]
  },
  {
   "cell_type": "code",
   "execution_count": 8,
   "metadata": {},
   "outputs": [],
   "source": [
    "class Error(Exception):\n",
    "    pass\n",
    "\n",
    "class dobException(Error):\n",
    "    pass\n"
   ]
  },
  {
   "cell_type": "code",
   "execution_count": 10,
   "metadata": {},
   "outputs": [
    {
     "name": "stdout",
     "output_type": "stream",
     "text": [
      "The age is valid so you can apply for the exam\n"
     ]
    }
   ],
   "source": [
    "year = int(input(\"Enter the dob\"))\n",
    "age=2024-year\n",
    "\n",
    "try:\n",
    "    if age<=30 and age>=20:\n",
    "        print(\"The age is valid so you can apply for the exam\")\n",
    "    else:\n",
    "        raise dobException\n",
    "except dobException:\n",
    "    print(\"Sorry, your age should be greater than 20 or leass than 30\")\n"
   ]
  },
  {
   "cell_type": "markdown",
   "metadata": {},
   "source": [
    "# Advance Python\n",
    "\n",
    "# Iterators\n",
    "Iterators are advanced Python concepts that allow for efficient looping and memory management. Iterators provide a way to access elements of a collection sequentially without exposing the underlying structure. "
   ]
  },
  {
   "cell_type": "code",
   "execution_count": 5,
   "metadata": {},
   "outputs": [
    {
     "name": "stdout",
     "output_type": "stream",
     "text": [
      "1\n",
      "2\n",
      "3\n",
      "4\n",
      "5\n",
      "6\n",
      "[1, 2, 3, 4, 5, 6]\n"
     ]
    }
   ],
   "source": [
    "my_list = [1,2,3,4,5,6]\n",
    "for i in my_list:\n",
    "    print(i)\n",
    "\n",
    "print(my_list)"
   ]
  },
  {
   "cell_type": "code",
   "execution_count": 22,
   "metadata": {},
   "outputs": [
    {
     "name": "stdout",
     "output_type": "stream",
     "text": [
      "<class 'list_iterator'>\n",
      "<list_iterator object at 0x0000024EFFD8FE80>\n"
     ]
    }
   ],
   "source": [
    "iterator = iter(my_list)\n",
    "print(type(iterator))\n",
    "print(iterator) \n",
    "# The iterator uses the technique of lazy loading.\n",
    "# That means it will not print/give any element unless it iterates through each element."
   ]
  },
  {
   "cell_type": "code",
   "execution_count": 23,
   "metadata": {},
   "outputs": [
    {
     "data": {
      "text/plain": [
       "1"
      ]
     },
     "execution_count": 23,
     "metadata": {},
     "output_type": "execute_result"
    }
   ],
   "source": [
    "# In order to iterate through element we use next() function\n",
    "# The next function will print next element untill the end of the iterator. After that the execution will show error\n",
    "# To handle the error, we can use Exception\n",
    "next(iterator)"
   ]
  },
  {
   "cell_type": "code",
   "execution_count": 25,
   "metadata": {},
   "outputs": [],
   "source": [
    "iterator=iter(my_list)"
   ]
  },
  {
   "cell_type": "code",
   "execution_count": 33,
   "metadata": {},
   "outputs": [
    {
     "name": "stdout",
     "output_type": "stream",
     "text": [
      "There are no elements in iterator\n"
     ]
    }
   ],
   "source": [
    "try:\n",
    "    print(next(iterator))\n",
    "except StopIteration:\n",
    "    print(\"There are no elements in iterator\")"
   ]
  },
  {
   "cell_type": "code",
   "execution_count": 36,
   "metadata": {},
   "outputs": [
    {
     "name": "stdout",
     "output_type": "stream",
     "text": [
      "H\n",
      "e\n"
     ]
    }
   ],
   "source": [
    "# String iterator\n",
    "my_string = \"Hello\"\n",
    "string_iterator = iter(my_string)\n",
    "print(next(string_iterator))\n",
    "print(next(string_iterator))"
   ]
  },
  {
   "cell_type": "markdown",
   "metadata": {},
   "source": [
    "# Generators\n",
    "It is a subclass of Iterators.\n",
    "Generators are a simpler way to create iterators. They use the \"yield\" keyword to produce a series of values lazily, which means they generate values on the fly and do not store them in memory."
   ]
  },
  {
   "cell_type": "code",
   "execution_count": 46,
   "metadata": {},
   "outputs": [],
   "source": [
    "def square(n):\n",
    "    for i in range(3):\n",
    "        # return i**2\n",
    "        yield i**2 # yield keyword generates a local variable and saves value also."
   ]
  },
  {
   "cell_type": "code",
   "execution_count": 64,
   "metadata": {},
   "outputs": [
    {
     "data": {
      "text/plain": [
       "<generator object square at 0x0000024E811C4C80>"
      ]
     },
     "execution_count": 64,
     "metadata": {},
     "output_type": "execute_result"
    }
   ],
   "source": [
    "square(3)"
   ]
  },
  {
   "cell_type": "code",
   "execution_count": 85,
   "metadata": {},
   "outputs": [
    {
     "name": "stdout",
     "output_type": "stream",
     "text": [
      "0\n",
      "1\n",
      "4\n",
      "0\n"
     ]
    }
   ],
   "source": [
    "# Use the iterator generated by yield function in a loop or through next() function\n",
    "for i in square(3):\n",
    "    print(i)\n",
    "\n",
    "a = square(3)"
   ]
  },
  {
   "cell_type": "code",
   "execution_count": 86,
   "metadata": {},
   "outputs": [
    {
     "name": "stdout",
     "output_type": "stream",
     "text": [
      "1\n"
     ]
    }
   ],
   "source": [
    "print(next(a))"
   ]
  },
  {
   "cell_type": "code",
   "execution_count": 89,
   "metadata": {},
   "outputs": [],
   "source": [
    "def my_generator():\n",
    "    yield 1\n",
    "    yield 2\n",
    "    yield 3\n",
    "# We can return multiple yield"
   ]
  },
  {
   "cell_type": "code",
   "execution_count": 99,
   "metadata": {},
   "outputs": [
    {
     "data": {
      "text/plain": [
       "<generator object my_generator at 0x0000024E8123B6F0>"
      ]
     },
     "execution_count": 99,
     "metadata": {},
     "output_type": "execute_result"
    }
   ],
   "source": [
    "gen=my_generator()\n",
    "gen"
   ]
  },
  {
   "cell_type": "code",
   "execution_count": 97,
   "metadata": {},
   "outputs": [
    {
     "data": {
      "text/plain": [
       "1"
      ]
     },
     "execution_count": 97,
     "metadata": {},
     "output_type": "execute_result"
    }
   ],
   "source": [
    "next(gen)"
   ]
  },
  {
   "cell_type": "code",
   "execution_count": 100,
   "metadata": {},
   "outputs": [
    {
     "name": "stdout",
     "output_type": "stream",
     "text": [
      "1\n",
      "2\n",
      "3\n"
     ]
    }
   ],
   "source": [
    "for val in gen:\n",
    "    print(val)"
   ]
  },
  {
   "cell_type": "markdown",
   "metadata": {},
   "source": [
    "# Practical Example of Generator: Reading Large Files\n",
    "Generators are particularly useful for reading large files because they allow you to process one line at a time without loading the entire file into memory."
   ]
  },
  {
   "cell_type": "code",
   "execution_count": 103,
   "metadata": {},
   "outputs": [],
   "source": [
    "# Read large file using generator\n",
    "def read_large_file(file_path):\n",
    "    with open(file_path, 'r') as file:\n",
    "        for line in file:\n",
    "            yield line"
   ]
  },
  {
   "cell_type": "code",
   "execution_count": 104,
   "metadata": {},
   "outputs": [
    {
     "name": "stdout",
     "output_type": "stream",
     "text": [
      "Droupadi Murmu (born Durgi Biranchi Tudu; born 20 June 1958) is an Indian politician who has served as the 15th president of India since 2022.\n",
      "She won the 2022 presidential election as the Bharatiya Janata Party (BJP) candidate.\n",
      "She is the first person belonging to a tribal community and also the second woman after Pratibha Patil to hold the office.\n",
      "She is also the youngest person to occupy the post (at 64) and the first president born in independent India.\n",
      "Previously, she served as the 8th governor of Jharkhand from 2015 to 2021, being the longest-serving governor for that state,\n",
      "as a member of the Odisha Legislative Assembly from Rairangpur Assembly constituency from 2000 to 2009,\n",
      "and as minister of State (Independent Charge), Government of Odisha from 2000 to 2004.\n",
      "Before entering politics, she worked as a clerk in the State Irrigation and Power Department from 1979 to 1983, and then as a teacher in Rairangpur from 1994 until 1997.\n"
     ]
    }
   ],
   "source": [
    "file_path='large_file.txt'\n",
    "\n",
    "for line in read_large_file(file_path):\n",
    "    print(line.strip())"
   ]
  },
  {
   "cell_type": "markdown",
   "metadata": {},
   "source": [
    "Difference Between Iterator & Generator:\n",
    "1. Iterator uses 'iter' keyword. Generator uses 'yield' keyword.\n",
    "2. Generator saves the local variable one by one and return whenever we specifically call it. \n",
    "3. iterator is more effcient than genenrator."
   ]
  },
  {
   "cell_type": "markdown",
   "metadata": {},
   "source": [
    "# Function Copy, Closures And Decorators\n",
    "\n",
    "# Decorators\n",
    "Decorators are a powerful and flexible feature in Python that allows you to modify the behavior of a function or class method. They are commonly used to add functionality to functions or methods without modifying their actual code. This lesson covers the basics of decorators, including how to create and use them. "
   ]
  },
  {
   "cell_type": "code",
   "execution_count": 128,
   "metadata": {},
   "outputs": [
    {
     "data": {
      "text/plain": [
       "'Welcome to the Advanced Python Course'"
      ]
     },
     "execution_count": 128,
     "metadata": {},
     "output_type": "execute_result"
    }
   ],
   "source": [
    "## function copy\n",
    "def welcome():\n",
    "    return \"Welcome to the Advanced Python Course\"\n",
    "\n",
    "welcome()"
   ]
  },
  {
   "cell_type": "code",
   "execution_count": 129,
   "metadata": {},
   "outputs": [
    {
     "name": "stdout",
     "output_type": "stream",
     "text": [
      "Welcome to the Advanced Python Course\n",
      "Welcome to the Advanced Python Course\n"
     ]
    }
   ],
   "source": [
    "# function copy- copying a function in a variable.\n",
    "wel=welcome\n",
    "print(wel())\n",
    "del welcome\n",
    "print(wel())\n",
    "## Even we delete the function, the function copy still shows that function\n"
   ]
  },
  {
   "cell_type": "code",
   "execution_count": 134,
   "metadata": {},
   "outputs": [],
   "source": [
    "# Closures function- function inside a function\n",
    "# In closure function, anything defined outside the sub-method can also be accessed by the sub-method.\n",
    "# For e.g. msg variable below-\n",
    "\n",
    "def main_welcome(msg):\n",
    "    # msg=\"Welcome\"\n",
    "    def sub_welcome_method():\n",
    "        print(\"Welcome to advanced python course\")\n",
    "        print(msg)\n",
    "        print(\"Please learn these concepts properly\")\n",
    "    return sub_welcome_method()"
   ]
  },
  {
   "cell_type": "code",
   "execution_count": 135,
   "metadata": {},
   "outputs": [
    {
     "name": "stdout",
     "output_type": "stream",
     "text": [
      "Welcome to advanced python course\n",
      "Welcome everyone\n",
      "Please learn these concepts properly\n"
     ]
    }
   ],
   "source": [
    "# main_welcome()\n",
    "main_welcome(\"Welcome everyone\")"
   ]
  },
  {
   "cell_type": "code",
   "execution_count": 1,
   "metadata": {},
   "outputs": [],
   "source": [
    "# We can also use any function or in-built function in place of variable in closures function\n",
    "\n",
    "def main_welcome(func):\n",
    "    def sub_welcome_method():\n",
    "        print(\"Welcome to advanced python course\")\n",
    "        func(\"Welcome everyone to this class\") # Here func is just a print function \n",
    "        print(\"Please learn these concepts properly\")\n",
    "    return sub_welcome_method()\n"
   ]
  },
  {
   "cell_type": "code",
   "execution_count": 2,
   "metadata": {},
   "outputs": [
    {
     "name": "stdout",
     "output_type": "stream",
     "text": [
      "Welcome to advanced python course\n",
      "Welcome everyone to this class\n",
      "Please learn these concepts properly\n"
     ]
    }
   ],
   "source": [
    "main_welcome(print)"
   ]
  },
  {
   "cell_type": "code",
   "execution_count": 24,
   "metadata": {},
   "outputs": [],
   "source": [
    "# Now suppose we replace the print with len() function\n",
    "def main_welcome(func,lst):\n",
    "    def sub_welcome_method():\n",
    "        print(\"Welcome to advanced python course\")\n",
    "        # my_list=[1,2,3,4,5]\n",
    "        # print(func(my_list)) # Here func is just a len function\n",
    "        print(func(lst))\n",
    "        print(\"Please learn these concepts properly\")\n",
    "    return sub_welcome_method()\n"
   ]
  },
  {
   "cell_type": "code",
   "execution_count": 25,
   "metadata": {},
   "outputs": [
    {
     "name": "stdout",
     "output_type": "stream",
     "text": [
      "Welcome to advanced python course\n",
      "5\n",
      "Please learn these concepts properly\n"
     ]
    }
   ],
   "source": [
    "# main_welcome(len)\n",
    "main_welcome(len,[1,2,3,4,5])"
   ]
  },
  {
   "cell_type": "code",
   "execution_count": 49,
   "metadata": {},
   "outputs": [],
   "source": [
    "### Decorator\n",
    "def main_welcome(func):\n",
    "\n",
    "    def sub_welcome_method():\n",
    "        print(\"Welcome to the advance python course\")\n",
    "        func()\n",
    "        print(\"Please learn these concepts properly\")\n",
    "    return sub_welcome_method()\n"
   ]
  },
  {
   "cell_type": "code",
   "execution_count": 47,
   "metadata": {},
   "outputs": [],
   "source": [
    "def course_introduction():\n",
    "    print(\"This is an advanced python course\")"
   ]
  },
  {
   "cell_type": "code",
   "execution_count": 44,
   "metadata": {},
   "outputs": [
    {
     "name": "stdout",
     "output_type": "stream",
     "text": [
      "Welcome to the advance python course\n",
      "This is an advanced python course\n",
      "Please learn these concepts properly\n"
     ]
    }
   ],
   "source": [
    "main_welcome(course_introduction)"
   ]
  },
  {
   "cell_type": "code",
   "execution_count": 50,
   "metadata": {},
   "outputs": [
    {
     "name": "stdout",
     "output_type": "stream",
     "text": [
      "Welcome to the advance python course\n",
      "This is an advanced python course\n",
      "Please learn these concepts properly\n"
     ]
    }
   ],
   "source": [
    "@main_welcome\n",
    "def course_introduction():\n",
    "    print(\"This is an advanced python course\")\n",
    "\n",
    "# Here we created decorator of main_welcome function.\n",
    "# That means the function below the decorator, course_introduction() function passed as parameter to the main_welcome function\n"
   ]
  },
  {
   "cell_type": "code",
   "execution_count": 52,
   "metadata": {},
   "outputs": [],
   "source": [
    "# Another example of Decorator\n",
    "def my_decorator(func):\n",
    "    def wrapper():\n",
    "        print(\"Something is happening begore the function is called.\")\n",
    "        func()\n",
    "        print(\"Something is happening after the function is called.\")\n",
    "    return wrapper\n"
   ]
  },
  {
   "cell_type": "code",
   "execution_count": 53,
   "metadata": {},
   "outputs": [],
   "source": [
    "@my_decorator\n",
    "def say_hello():\n",
    "    print(\"Hello!\")"
   ]
  },
  {
   "cell_type": "code",
   "execution_count": 54,
   "metadata": {},
   "outputs": [
    {
     "name": "stdout",
     "output_type": "stream",
     "text": [
      "Something is happening begore the function is called.\n",
      "Hello!\n",
      "Something is happening after the function is called.\n"
     ]
    }
   ],
   "source": [
    "say_hello()"
   ]
  },
  {
   "cell_type": "code",
   "execution_count": 78,
   "metadata": {},
   "outputs": [],
   "source": [
    "## Decorators with arguments\n",
    "def repeat(n):\n",
    "    def decorator(func):\n",
    "        def wrapper(*args, **kwargs):\n",
    "            for _ in range(n):\n",
    "                func(*args, **kwargs)\n",
    "        return wrapper\n",
    "    return decorator\n",
    "\n",
    "## Explanation\n",
    "# repeat(n) is a decorator factory: This function takes an argument n (which indicates how many times the decorated function should be repeated)\n",
    "# and returns another function called decorator.\n",
    "# decorator(func) is the actual decorator function: It takes the function to be decorated (func) as an argument and returns the wrapper function.\n",
    "# wrapper(*args, **kwargs) is the inner function that will be executed when the decorated function is called. The *args and **kwargs ensure that \n",
    "# the wrapper can handle any arguments passed to the decorated function.\n",
    "# for _ in range(n):: The key logic here is that the wrapper will call the decorated function n times, based on the value of n \n",
    "# provided when repeat(n) is used."
   ]
  },
  {
   "cell_type": "code",
   "execution_count": 76,
   "metadata": {},
   "outputs": [],
   "source": [
    "@repeat(3)\n",
    "def say_hello():\n",
    "    print(\"Hello\")\n",
    "\n",
    "## EXplanation- @repeat(3) applies the repeat decorator to the say_hello function. \n",
    "# The repeat(3) call returns a decorator, which is then applied to say_hello.\n",
    "# Now, say_hello is wrapped inside the wrapper function that repeats its execution 3 times."
   ]
  },
  {
   "cell_type": "code",
   "execution_count": 77,
   "metadata": {},
   "outputs": [
    {
     "name": "stdout",
     "output_type": "stream",
     "text": [
      "Hello\n",
      "Hello\n",
      "Hello\n"
     ]
    }
   ],
   "source": [
    "say_hello()\n",
    "# When say_hello() is called, it no longer just prints \"Hello\" once. Instead, it invokes the wrapper function, \n",
    "# which loops 3 times, each time calling the original say_hello function inside the loop.\n",
    "\n",
    "# What happens internally:\n",
    "# The say_hello() function call is intercepted by the wrapper function, which was returned by the repeat(3) decorator.\n",
    "# Inside the wrapper function, the original say_hello function is called 3 times (n=3), and each time it prints \"Hello\".\n",
    "\n",
    "# Summary of how the code works:\n",
    "# repeat(n): Returns a decorator that takes a function and repeats its execution n times.\n",
    "# decorator(func): Defines the actual decorator that wraps the original function.\n",
    "# wrapper(*args, **kwargs): The function that runs the original function n times when called.\n",
    "# The result: The say_hello function gets modified to print \"Hello\" 3 times instead of just once.\n",
    "# This is a flexible and reusable pattern for repeating the execution of any function based on the value of n."
   ]
  },
  {
   "cell_type": "markdown",
   "metadata": {},
   "source": [
    "Conclusion\n",
    "\n",
    "Decorators are a powerful tool in Python for extending and modifying the behavior of functions and methods. They provide a clean and readable way to add functionality such as logging, timing, access control, and more without changing the original code. Understanding and using decorators effectively can significantly enhance your Python programmingh skills."
   ]
  }
 ],
 "metadata": {
  "kernelspec": {
   "display_name": "Python 3",
   "language": "python",
   "name": "python3"
  },
  "language_info": {
   "codemirror_mode": {
    "name": "ipython",
    "version": 3
   },
   "file_extension": ".py",
   "mimetype": "text/x-python",
   "name": "python",
   "nbconvert_exporter": "python",
   "pygments_lexer": "ipython3",
   "version": "3.10.0"
  }
 },
 "nbformat": 4,
 "nbformat_minor": 2
}
